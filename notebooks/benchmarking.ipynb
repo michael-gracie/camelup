{
 "cells": [
  {
   "cell_type": "code",
   "execution_count": 308,
   "metadata": {},
   "outputs": [],
   "source": [
    "from camelup import gameplay\n",
    "import pandas as pd\n",
    "import random\n",
    "import copy"
   ]
  },
  {
   "cell_type": "code",
   "execution_count": 307,
   "metadata": {
    "scrolled": true
   },
   "outputs": [],
   "source": [
    "cDict = {\n",
    "    'red': {\n",
    "        'height': 1\n",
    "        ,'space': 1\n",
    "        ,'need_roll': True\n",
    "    },\n",
    "    'blue': {\n",
    "        'height': 2\n",
    "        ,'space': 1\n",
    "        ,'need_roll': True\n",
    "    },\n",
    "    'green': {\n",
    "        'height': 1\n",
    "        ,'space': 2\n",
    "        ,'need_roll': True\n",
    "    }\n",
    "}\n",
    "\n",
    "camels = ['red','blue','green']\n",
    "no_tiles = {}\n",
    "\n",
    "camel_df = pd.DataFrame(cDict).T"
   ]
  },
  {
   "cell_type": "code",
   "execution_count": 249,
   "metadata": {},
   "outputs": [
    {
     "data": {
      "text/plain": [
       "(1, 2, ['red', 'blue'])"
      ]
     },
     "execution_count": 249,
     "metadata": {},
     "output_type": "execute_result"
    }
   ],
   "source": [
    "gameplay.camels_to_move_dict(cDict,1,1)"
   ]
  },
  {
   "cell_type": "markdown",
   "metadata": {},
   "source": [
    "## Testing the class dictionary implementation"
   ]
  },
  {
   "cell_type": "code",
   "execution_count": 325,
   "metadata": {},
   "outputs": [],
   "source": [
    "random.seed(0)"
   ]
  },
  {
   "cell_type": "code",
   "execution_count": 326,
   "metadata": {},
   "outputs": [],
   "source": [
    "class_dict = copy.deepcopy(cDict)"
   ]
  },
  {
   "cell_type": "code",
   "execution_count": 327,
   "metadata": {},
   "outputs": [
    {
     "name": "stdout",
     "output_type": "stream",
     "text": [
      "CPU times: user 25.4 ms, sys: 1.04 ms, total: 26.5 ms\n",
      "Wall time: 26.6 ms\n"
     ]
    }
   ],
   "source": [
    "%%time\n",
    "for loop in range(1000):\n",
    "    roll = random.randint(1,3)\n",
    "    camel_to_move = random.choice(camels)\n",
    "    move = gameplay.GamePlay(class_dict, camel_to_move, roll, notiles)"
   ]
  },
  {
   "cell_type": "markdown",
   "metadata": {},
   "source": [
    "## Testing the function based dictionary implementation"
   ]
  },
  {
   "cell_type": "code",
   "execution_count": 328,
   "metadata": {},
   "outputs": [],
   "source": [
    "random.seed(0)"
   ]
  },
  {
   "cell_type": "code",
   "execution_count": 329,
   "metadata": {},
   "outputs": [],
   "source": [
    "func_dict = copy.deepcopy(cDict)"
   ]
  },
  {
   "cell_type": "code",
   "execution_count": 330,
   "metadata": {},
   "outputs": [
    {
     "name": "stdout",
     "output_type": "stream",
     "text": [
      "CPU times: user 8.29 ms, sys: 355 µs, total: 8.65 ms\n",
      "Wall time: 8.38 ms\n"
     ]
    }
   ],
   "source": [
    "%%time\n",
    "for loop in range(1000):\n",
    "    roll = random.randint(1,3)\n",
    "    camel_to_move = random.choice(camels)\n",
    "    move = gameplay.move_dict(func_dict, camel_to_move, roll)"
   ]
  },
  {
   "cell_type": "markdown",
   "metadata": {},
   "source": [
    "## Testing the dataframe implementation"
   ]
  },
  {
   "cell_type": "code",
   "execution_count": 332,
   "metadata": {},
   "outputs": [],
   "source": [
    "random.seed(0)"
   ]
  },
  {
   "cell_type": "code",
   "execution_count": 331,
   "metadata": {},
   "outputs": [
    {
     "name": "stdout",
     "output_type": "stream",
     "text": [
      "CPU times: user 6.64 s, sys: 72.7 ms, total: 6.71 s\n",
      "Wall time: 6.77 s\n"
     ]
    }
   ],
   "source": [
    "%%time\n",
    "for loop in range(1000):\n",
    "    roll = random.randint(1,3)\n",
    "    camel_to_move = random.choice(camels)\n",
    "    gameplay.move_df(camel_df, camel_to_move, roll)"
   ]
  }
 ],
 "metadata": {
  "kernelspec": {
   "display_name": "Python 3",
   "language": "python",
   "name": "python3"
  },
  "language_info": {
   "codemirror_mode": {
    "name": "ipython",
    "version": 3
   },
   "file_extension": ".py",
   "mimetype": "text/x-python",
   "name": "python",
   "nbconvert_exporter": "python",
   "pygments_lexer": "ipython3",
   "version": "3.7.3"
  }
 },
 "nbformat": 4,
 "nbformat_minor": 2
}
