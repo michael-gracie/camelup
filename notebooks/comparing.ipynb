{
 "cells": [
  {
   "cell_type": "code",
   "execution_count": 1,
   "metadata": {},
   "outputs": [],
   "source": [
    "import logging\n",
    "import sys\n",
    "\n",
    "from copy import deepcopy\n",
    "from operator import add\n",
    "\n",
    "import numpy as np\n",
    "import pandas as pd\n",
    "\n",
    "from numpy.lib.recfunctions import append_fields\n",
    "\n",
    "from camelup import camelup, config\n",
    "from camelup import utilities as util"
   ]
  },
  {
   "cell_type": "code",
   "execution_count": 2,
   "metadata": {},
   "outputs": [],
   "source": [
    "def coins_to_numpy(game):\n",
    "    return np.array(\n",
    "        [(key[0], key[1][\"coins\"]) for key in [*game.player_dict.items()]],\n",
    "        dtype=[(\"player\", float), (\"coins\", float)],\n",
    "    )\n",
    "\n",
    "\n",
    "def bet_tiles_to_numpy(game):\n",
    "    return np.array(\n",
    "        [\n",
    "            (key[0], camel[0], sum(camel[1]), len(camel[1]))\n",
    "            for key in [*game.player_dict.items()]\n",
    "            for camel in [*key[1][\"bet_tiles\"].items()]\n",
    "        ],\n",
    "        dtype=[(\"player\", float), (\"camel\", \"U10\"), (\"value\", float), (\"bets\", float)],\n",
    "    )\n",
    "\n",
    "\n",
    "def create_prob_array(result, iter):\n",
    "    bins, counts = np.unique(result[\"camel\"], return_counts=True)\n",
    "    counts_array = np.array(counts, dtype=[(\"counts\", float)])\n",
    "    result_array = append_fields(bins, \"counts\", counts_array[\"counts\"], usemask=False)\n",
    "    result_array.dtype.names = (\"camel\", \"counts\")\n",
    "    prob_array = np.array(result_array[\"counts\"] / iter, dtype=[(\"prob\", float)])\n",
    "    return append_fields(result_array, \"prob\", prob_array[\"prob\"], usemask=False)\n",
    "\n",
    "\n",
    "def turn_prob_numpy(game, iter):\n",
    "    winner_result, tile_points_result = game.turn_monte(\n",
    "        game.camel_dict, game.tiles_dict, iter=iter\n",
    "    )\n",
    "    prob_first = create_prob_array(winner_result[winner_result[\"place\"] == 1], iter)\n",
    "    prob_second = create_prob_array(winner_result[winner_result[\"place\"] == 2], iter)\n",
    "    prob_other = create_prob_array(winner_result[winner_result[\"place\"] > 2], iter)\n",
    "    exp_tile_points = util.numpy_group_by_sum(tile_points_result, \"player\", \"points\")\n",
    "    return prob_first, prob_second, prob_other, exp_tile_points\n",
    "\n",
    "\n",
    "def game_prob_numpy(game, iter):\n",
    "    result = game.game_monte(game.camel_dict, game.tiles_dict, iter=iter)\n",
    "    loser_place = max(result[\"place\"])\n",
    "    prob_first = create_prob_array(result[result[\"place\"] == 1], iter)\n",
    "    prob_last = create_prob_array(result[result[\"place\"] == loser_place], iter)\n",
    "    prob_other = create_prob_array(\n",
    "        result[(result[\"place\"] != 1) & (result[\"place\"] != loser_place)], iter\n",
    "    )\n",
    "    return prob_first, prob_last, prob_other\n",
    "\n",
    "\n",
    "def winner_loser_bets_to_numpy(game):\n",
    "    winner_bets = np.array(\n",
    "        game.winner_bets, dtype=[(\"player\", float), (\"camel\", \"U10\")]\n",
    "    )\n",
    "    loser_bets = np.array(game.loser_bets, dtype=[(\"player\", float), (\"camel\", \"U6\")])\n",
    "    return winner_bets, loser_bets\n"
   ]
  },
  {
   "cell_type": "code",
   "execution_count": 3,
   "metadata": {},
   "outputs": [],
   "source": [
    "game = camelup.Game(3)\n",
    "\n",
    "camel_dict = {\n",
    "    \"red\": {\"height\": 1, \"space\": 1, \"need_roll\": True},\n",
    "    \"blue\": {\"height\": 2, \"space\": 1, \"need_roll\": True},\n",
    "    \"green\": {\"height\": 1, \"space\": 2, \"need_roll\": True},\n",
    "}\n",
    "game.camel_dict = camel_dict\n",
    "\n",
    "game.play_winner_card(\"blue\")\n",
    "game.play_loser_card(\"red\")\n",
    "game.play_bet_tile(\"blue\")\n",
    "\n",
    "game.state = 2\n",
    "game.play_bet_tile(\"blue\")\n",
    "game.play_bet_tile(\"green\")\n",
    "game.play_winner_card(\"green\")"
   ]
  },
  {
   "cell_type": "code",
   "execution_count": 4,
   "metadata": {},
   "outputs": [],
   "source": [
    "iter = 1000"
   ]
  },
  {
   "cell_type": "code",
   "execution_count": 5,
   "metadata": {},
   "outputs": [],
   "source": [
    "coins = coins_to_numpy(game)\n",
    "turn_prob_first, turn_prob_second, turn_prob_other, exp_tile_points = turn_prob_numpy(\n",
    "    game, iter\n",
    ")\n",
    "game_prob_first, game_prob_last, game_prob_other = game_prob_numpy(game, iter)\n",
    "winner_bets, loser_bets = winner_loser_bets_to_numpy(game)\n",
    "bet_tiles = bet_tiles_to_numpy(game)"
   ]
  },
  {
   "cell_type": "code",
   "execution_count": 6,
   "metadata": {},
   "outputs": [
    {
     "data": {
      "text/plain": [
       "array(['blue', 'blue', 'green'], dtype='<U10')"
      ]
     },
     "execution_count": 6,
     "metadata": {},
     "output_type": "execute_result"
    }
   ],
   "source": [
    "bet_tiles['camel']"
   ]
  },
  {
   "cell_type": "code",
   "execution_count": 7,
   "metadata": {},
   "outputs": [
    {
     "data": {
      "text/plain": [
       "array(['blue', 'green', 'red'], dtype='<U6')"
      ]
     },
     "execution_count": 7,
     "metadata": {},
     "output_type": "execute_result"
    }
   ],
   "source": [
    "turn_prob_first['camel']"
   ]
  },
  {
   "cell_type": "code",
   "execution_count": 8,
   "metadata": {},
   "outputs": [],
   "source": [
    "def numpy_left_join(df1, df2, key):\n",
    "    \"\"\"\n",
    "    Basic left join, return left join of 2 dataframe, duplicates allowing in df1. Only one key allowed\n",
    "    \"\"\"\n",
    "    df2_descr = list(filter(lambda x: x[0] != key, df2.dtype.descr))\n",
    "    new_df_dtype = np.dtype(list(set(df1.dtype.descr + df2_descr)))\n",
    "    new_df = np.zeros(df1.shape, dtype=new_df_dtype)\n",
    "    for col in df1.dtype.names:\n",
    "        new_df[col] = df1[col]\n",
    "    for new_row in new_df:\n",
    "        for row in df2:\n",
    "            if row[key]==new_row[key]:\n",
    "                for col in df2.dtype.names:\n",
    "                    new_row[col] = row[col]\n",
    "                next\n",
    "    return new_df"
   ]
  },
  {
   "cell_type": "code",
   "execution_count": 9,
   "metadata": {
    "scrolled": true
   },
   "outputs": [
    {
     "name": "stdout",
     "output_type": "stream",
     "text": [
      "CPU times: user 17.3 ms, sys: 1.74 ms, total: 19 ms\n",
      "Wall time: 18.7 ms\n"
     ]
    }
   ],
   "source": [
    "%%time\n",
    "bets_pd = pd.DataFrame(bet_tiles).merge(\n",
    "    pd.DataFrame(turn_prob_first), on=\"camel\", how=\"left\", suffixes=(\"\", \"_first\")\n",
    ")"
   ]
  },
  {
   "cell_type": "code",
   "execution_count": 10,
   "metadata": {},
   "outputs": [
    {
     "name": "stdout",
     "output_type": "stream",
     "text": [
      "CPU times: user 282 µs, sys: 1 µs, total: 283 µs\n",
      "Wall time: 292 µs\n"
     ]
    }
   ],
   "source": [
    "%%time\n",
    "bets_np = numpy_left_join(bet_tiles, turn_prob_first, 'camel')"
   ]
  },
  {
   "cell_type": "code",
   "execution_count": 11,
   "metadata": {},
   "outputs": [
    {
     "data": {
      "text/plain": [
       "array([(1., 'blue', 5., 1.), (2., 'blue', 3., 1.), (2., 'green', 5., 1.)],\n",
       "      dtype=[('player', '<f8'), ('camel', '<U10'), ('value', '<f8'), ('bets', '<f8')])"
      ]
     },
     "execution_count": 11,
     "metadata": {},
     "output_type": "execute_result"
    }
   ],
   "source": [
    "bet_tiles"
   ]
  },
  {
   "cell_type": "code",
   "execution_count": 12,
   "metadata": {},
   "outputs": [
    {
     "data": {
      "text/html": [
       "<div>\n",
       "<style scoped>\n",
       "    .dataframe tbody tr th:only-of-type {\n",
       "        vertical-align: middle;\n",
       "    }\n",
       "\n",
       "    .dataframe tbody tr th {\n",
       "        vertical-align: top;\n",
       "    }\n",
       "\n",
       "    .dataframe thead th {\n",
       "        text-align: right;\n",
       "    }\n",
       "</style>\n",
       "<table border=\"1\" class=\"dataframe\">\n",
       "  <thead>\n",
       "    <tr style=\"text-align: right;\">\n",
       "      <th></th>\n",
       "      <th>player</th>\n",
       "      <th>camel</th>\n",
       "      <th>value</th>\n",
       "      <th>bets</th>\n",
       "      <th>counts</th>\n",
       "      <th>prob</th>\n",
       "    </tr>\n",
       "  </thead>\n",
       "  <tbody>\n",
       "    <tr>\n",
       "      <th>0</th>\n",
       "      <td>1.0</td>\n",
       "      <td>blue</td>\n",
       "      <td>5.0</td>\n",
       "      <td>1.0</td>\n",
       "      <td>486.0</td>\n",
       "      <td>0.486</td>\n",
       "    </tr>\n",
       "    <tr>\n",
       "      <th>1</th>\n",
       "      <td>2.0</td>\n",
       "      <td>blue</td>\n",
       "      <td>3.0</td>\n",
       "      <td>1.0</td>\n",
       "      <td>486.0</td>\n",
       "      <td>0.486</td>\n",
       "    </tr>\n",
       "    <tr>\n",
       "      <th>2</th>\n",
       "      <td>2.0</td>\n",
       "      <td>green</td>\n",
       "      <td>5.0</td>\n",
       "      <td>1.0</td>\n",
       "      <td>314.0</td>\n",
       "      <td>0.314</td>\n",
       "    </tr>\n",
       "  </tbody>\n",
       "</table>\n",
       "</div>"
      ],
      "text/plain": [
       "   player  camel  value  bets  counts   prob\n",
       "0     1.0   blue    5.0   1.0   486.0  0.486\n",
       "1     2.0   blue    3.0   1.0   486.0  0.486\n",
       "2     2.0  green    5.0   1.0   314.0  0.314"
      ]
     },
     "execution_count": 12,
     "metadata": {},
     "output_type": "execute_result"
    }
   ],
   "source": [
    "bets_pd"
   ]
  },
  {
   "cell_type": "code",
   "execution_count": 13,
   "metadata": {},
   "outputs": [],
   "source": [
    "from numpy.lib.recfunctions import append_fields"
   ]
  },
  {
   "cell_type": "code",
   "execution_count": 14,
   "metadata": {},
   "outputs": [
    {
     "name": "stdout",
     "output_type": "stream",
     "text": [
      "CPU times: user 1.65 ms, sys: 548 µs, total: 2.2 ms\n",
      "Wall time: 22.5 ms\n"
     ]
    }
   ],
   "source": [
    "%%time\n",
    "bets_np = append_fields(bets_np, 'exp_val', bets_np['value']*bets_np['prob'], '<f8', usemask=False)"
   ]
  },
  {
   "cell_type": "code",
   "execution_count": 15,
   "metadata": {},
   "outputs": [
    {
     "name": "stdout",
     "output_type": "stream",
     "text": [
      "CPU times: user 4.14 ms, sys: 1.88 ms, total: 6.02 ms\n",
      "Wall time: 12.6 ms\n"
     ]
    }
   ],
   "source": [
    "%%time\n",
    "bets_pd['exp_val']=bets_pd['value'] * bets_pd['prob']"
   ]
  },
  {
   "cell_type": "code",
   "execution_count": 16,
   "metadata": {},
   "outputs": [],
   "source": [
    "def numpy_group_by_sum(array, index, sum_col):\n",
    "    unique_groups = np.unique(array[index])\n",
    "    sums = []\n",
    "    for group in unique_groups:\n",
    "        sums.append((group, array[array[index] == group][sum_col].sum()))\n",
    "    return np.array(sums, dtype=[(f\"{index}\", float), (f\"{sum_col}\", float)])"
   ]
  },
  {
   "cell_type": "code",
   "execution_count": 17,
   "metadata": {},
   "outputs": [
    {
     "name": "stdout",
     "output_type": "stream",
     "text": [
      "CPU times: user 639 µs, sys: 291 µs, total: 930 µs\n",
      "Wall time: 706 µs\n"
     ]
    },
    {
     "data": {
      "text/plain": [
       "array([(1., 2.43 ), (2., 3.028)],\n",
       "      dtype=[('player', '<f8'), ('exp_val', '<f8')])"
      ]
     },
     "execution_count": 17,
     "metadata": {},
     "output_type": "execute_result"
    }
   ],
   "source": [
    "%%time\n",
    "numpy_group_by_sum(bets_np, 'player', 'exp_val')"
   ]
  },
  {
   "cell_type": "code",
   "execution_count": 18,
   "metadata": {},
   "outputs": [
    {
     "name": "stdout",
     "output_type": "stream",
     "text": [
      "CPU times: user 5.12 ms, sys: 1.75 ms, total: 6.87 ms\n",
      "Wall time: 5.83 ms\n"
     ]
    },
    {
     "data": {
      "text/plain": [
       "player\n",
       "1.0    2.430\n",
       "2.0    3.028\n",
       "Name: exp_val, dtype: float64"
      ]
     },
     "execution_count": 18,
     "metadata": {},
     "output_type": "execute_result"
    }
   ],
   "source": [
    "%%time\n",
    "bets_pd.groupby('player')['exp_val'].sum()"
   ]
  },
  {
   "cell_type": "code",
   "execution_count": 19,
   "metadata": {
    "scrolled": true
   },
   "outputs": [
    {
     "data": {
      "text/plain": [
       "('camel', 'counts', 'prob')"
      ]
     },
     "execution_count": 19,
     "metadata": {},
     "output_type": "execute_result"
    }
   ],
   "source": [
    "turn_prob_first.dtype.names"
   ]
  },
  {
   "cell_type": "code",
   "execution_count": 20,
   "metadata": {},
   "outputs": [],
   "source": [
    "def calc_exp_value_np(df, exp_value):\n",
    "    multiply_array = df['prob'] * df['points']\n",
    "    df = add_col_np(df, exp_value, multiply_array)\n",
    "    return util.numpy_group_by_sum(df, 'player', exp_value)\n",
    "\n",
    "def rename(df, columns, suffix):\n",
    "    names = ()\n",
    "    for col in df.dtype.names:\n",
    "        if col in columns:\n",
    "            names += (f'{col}_{suffix}',)\n",
    "        else:\n",
    "            names += (col,)\n",
    "    df.dtype.names = names\n",
    "\n",
    "def add_col_np(df, target_col, array):\n",
    "    df = append_fields(df, target_col, array, '<f8', usemask=False)\n",
    "    return df"
   ]
  },
  {
   "cell_type": "code",
   "execution_count": 21,
   "metadata": {},
   "outputs": [],
   "source": [
    "def game_merge_to_final(final_df, game_df, suffix):\n",
    "    return final_df.merge(\n",
    "        game_df.groupby(\"player\")[\"exp_value\"].sum().reset_index(),\n",
    "        on=\"player\",\n",
    "        how=\"left\",\n",
    "        suffixes=(\"\", f\"_{suffix}\"),\n",
    "    )\n",
    "\n",
    "def calc_exp_value(df):\n",
    "    df[\"exp_value\"] = df[\"prob\"] * df[\"points\"]"
   ]
  },
  {
   "cell_type": "markdown",
   "metadata": {},
   "source": [
    "## Testing the two against eachother"
   ]
  },
  {
   "cell_type": "code",
   "execution_count": 22,
   "metadata": {},
   "outputs": [],
   "source": [
    "def calc_utility(game, iter):\n",
    "    coins = coins_to_numpy(game)\n",
    "    turn_prob_first, turn_prob_second, turn_prob_other, exp_tile_points = turn_prob_numpy(\n",
    "        game, iter\n",
    "    )\n",
    "    game_prob_first, game_prob_last, game_prob_other = game_prob_numpy(game, iter)\n",
    "    winner_bets, loser_bets = winner_loser_bets_to_numpy(game)\n",
    "    bet_tiles = bet_tiles_to_numpy(game)\n",
    "    rename(turn_prob_first, ['counts','prob'],'first')\n",
    "    rename(turn_prob_second, ['counts','prob'],'second')\n",
    "    rename(turn_prob_other, ['counts','prob'],'other')\n",
    "    bets = numpy_left_join(bet_tiles, turn_prob_first, 'camel')\n",
    "    bets = numpy_left_join(bets, turn_prob_second, 'camel')\n",
    "    bets = numpy_left_join(bets, turn_prob_other, 'camel')\n",
    "    multiply_array = (bets['value'] * bets['prob_first']) + (bets['bets'] * bets['prob_second']) - (bets['bets'] * bets['prob_other'])\n",
    "    bets = add_col_np(bets, 'exp_value', multiply_array)\n",
    "    bets_groupby = numpy_group_by_sum(bets, 'player', 'exp_value')\n",
    "    final = numpy_left_join(coins, exp_tile_points, 'player')\n",
    "    final = numpy_left_join(final, bets_groupby, 'player')\n",
    "    game_first = numpy_left_join(winner_bets, game_prob_first, 'camel')\n",
    "    game_last = numpy_left_join(loser_bets, game_prob_last, 'camel')\n",
    "    game_winner_other = numpy_left_join(winner_bets, game_prob_other, 'camel')\n",
    "    game_loser_other = numpy_left_join(loser_bets, game_prob_other, 'camel')\n",
    "    game_first = add_col_np(game_first, 'points', config.BET_SCALING[0:game_first.shape[0]])\n",
    "    game_last = add_col_np(game_last, 'points', config.BET_SCALING[0:game_last.shape[0]])\n",
    "    game_winner_other = add_col_np(game_winner_other, 'points', [1]*game_winner_other.shape[0])\n",
    "    game_loser_other = add_col_np(game_loser_other, 'points', [1]*game_loser_other.shape[0])\n",
    "    final = numpy_left_join(final, calc_exp_value_np(game_first, 'exp_value_first'), 'player')\n",
    "    final = numpy_left_join(final, calc_exp_value_np(game_last, 'exp_value_last'), 'player')\n",
    "    final = numpy_left_join(final, calc_exp_value_np(game_winner_other, 'exp_value_winner_other'), 'player')\n",
    "    final = numpy_left_join(final, calc_exp_value_np(game_loser_other, 'exp_value_loser_other'), 'player')\n",
    "    multiply_array = (final[\"coins\"]\n",
    "        + final[\"points\"]\n",
    "        + final[\"exp_value\"]\n",
    "        + final[\"exp_value_first\"]\n",
    "        + final[\"exp_value_last\"]\n",
    "        - final[\"exp_value_winner_other\"]\n",
    "        - final[\"exp_value_loser_other\"]\n",
    "    )\n",
    "    final = add_col_np(final, 'utility', multiply_array)"
   ]
  },
  {
   "cell_type": "markdown",
   "metadata": {},
   "source": [
    "todo fix case where there is only 1 outcome"
   ]
  },
  {
   "cell_type": "code",
   "execution_count": 23,
   "metadata": {},
   "outputs": [],
   "source": [
    "    turn_prob_first, turn_prob_second, turn_prob_other, exp_tile_points = turn_prob_numpy(\n",
    "        game, 1\n",
    "    )"
   ]
  },
  {
   "cell_type": "code",
   "execution_count": 24,
   "metadata": {},
   "outputs": [
    {
     "data": {
      "text/plain": [
       "array([('blue', 1., 1.)],\n",
       "      dtype=[('camel', '<U4'), ('counts', '<f8'), ('prob', '<f8')])"
      ]
     },
     "execution_count": 24,
     "metadata": {},
     "output_type": "execute_result"
    }
   ],
   "source": [
    "turn_prob_first"
   ]
  },
  {
   "cell_type": "code",
   "execution_count": 25,
   "metadata": {},
   "outputs": [
    {
     "data": {
      "text/plain": [
       "array([(1., 'blue', 5., 1.), (2., 'blue', 3., 1.), (2., 'green', 5., 1.)],\n",
       "      dtype=[('player', '<f8'), ('camel', '<U10'), ('value', '<f8'), ('bets', '<f8')])"
      ]
     },
     "execution_count": 25,
     "metadata": {},
     "output_type": "execute_result"
    }
   ],
   "source": [
    "bet_tiles"
   ]
  },
  {
   "cell_type": "code",
   "execution_count": 26,
   "metadata": {},
   "outputs": [
    {
     "data": {
      "text/plain": [
       "array([('red', 1., 1.)],\n",
       "      dtype=[('camel', '<U3'), ('counts', '<f8'), ('prob', '<f8')])"
      ]
     },
     "execution_count": 26,
     "metadata": {},
     "output_type": "execute_result"
    }
   ],
   "source": [
    "turn_prob_other"
   ]
  },
  {
   "cell_type": "code",
   "execution_count": 27,
   "metadata": {},
   "outputs": [
    {
     "data": {
      "text/plain": [
       "array([('blue', 0., 1., 1., 5., 0.), ('blue', 0., 2., 1., 3., 0.),\n",
       "       ('green', 0., 2., 1., 5., 0.)],\n",
       "      dtype=[('camel', '<U10'), ('counts', '<f8'), ('player', '<f8'), ('bets', '<f8'), ('value', '<f8'), ('prob', '<f8')])"
      ]
     },
     "execution_count": 27,
     "metadata": {},
     "output_type": "execute_result"
    }
   ],
   "source": [
    "numpy_left_join(bet_tiles, turn_prob_other, 'camel')"
   ]
  },
  {
   "cell_type": "code",
   "execution_count": 28,
   "metadata": {},
   "outputs": [],
   "source": [
    "def parse_dump(string):\n",
    "    \"\"\"Gets information from the AST dump and return the AST object and the id\n",
    "\n",
    "    Parameters\n",
    "    ----------\n",
    "    string : str\n",
    "        Tree to extract the id for\n",
    "\n",
    "    Returns\n",
    "    -------\n",
    "    str\n",
    "        A string with the object and name info\n",
    "\n",
    "    \"\"\"\n",
    "    re1 = \"id='(.*?)',\"\n",
    "    return string.split('(')[0] + ' - ' + re.search(re1, string).group(1)\n",
    "\n",
    "\n",
    "def create_benchmark_func(tree, performance):\n",
    "    \"\"\"Creating a benchmark function named benchmark_`func`\n",
    "\n",
    "    Parameters\n",
    "    ----------\n",
    "    tree : str\n",
    "        AST for function to create benchmark function for\n",
    "    performance : dict\n",
    "        Dictionary to capture function\n",
    "\n",
    "    Returns\n",
    "    -------\n",
    "    str :\n",
    "        Tree of the benchmark function\n",
    "\n",
    "    \"\"\"\n",
    "    t = 0\n",
    "    new_first_layer = list()\n",
    "    for node in tree.body[0].body:\n",
    "        if node.__class__ != ast.Return:\n",
    "            node_dump = ast.dump(node)\n",
    "            parsed_dump = parse_dump(node_dump)\n",
    "            performance[parsed_dump] = list()\n",
    "            start_time = ast.parse(f\"t{t} = time()\").body[0]\n",
    "            t+=1\n",
    "            end_time = ast.parse(f\"t{t} = time()\").body[0]\n",
    "            dif = ast.parse(f\"performance['{parsed_dump}'].append(t{t}-t{t-1})\").body[0]\n",
    "            new_first_layer.extend([start_time, node, end_time, dif])\n",
    "            t+=1\n",
    "        else:\n",
    "            new_first_layer.extend([node])\n",
    "    tree.body[0].body = new_first_layer\n",
    "    tree.body[0].name = f'benchmark_{tree.body[0].name}'\n",
    "    return tree\n"
   ]
  },
  {
   "cell_type": "code",
   "execution_count": 29,
   "metadata": {},
   "outputs": [],
   "source": [
    "from copy import deepcopy\n",
    "from time import time\n",
    "import numpy as np\n",
    "import inspect\n",
    "import ast\n",
    "from io import StringIO\n",
    "import re"
   ]
  },
  {
   "cell_type": "code",
   "execution_count": 30,
   "metadata": {},
   "outputs": [
    {
     "name": "stdout",
     "output_type": "stream",
     "text": [
      "Module(body=[FunctionDef(name='benchmark_calc_utility', args=arguments(args=[arg(arg='game', annotation=None), arg(arg='iter', annotation=None)], vararg=None, kwonlyargs=[], kw_defaults=[], kwarg=None, defaults=[]), body=[Assign(targets=[Name(id='t0', ctx=Store())], value=Call(func=Name(id='time', ctx=Load()), args=[], keywords=[])), Assign(targets=[Name(id='coins', ctx=Store())], value=Call(func=Name(id='coins_to_numpy', ctx=Load()), args=[Name(id='game', ctx=Load())], keywords=[])), Assign(targets=[Name(id='t1', ctx=Store())], value=Call(func=Name(id='time', ctx=Load()), args=[], keywords=[])), Expr(value=Call(func=Attribute(value=Subscript(value=Name(id='performance', ctx=Load()), slice=Index(value=Str(s='Assign - coins')), ctx=Load()), attr='append', ctx=Load()), args=[BinOp(left=Name(id='t1', ctx=Load()), op=Sub(), right=Name(id='t0', ctx=Load()))], keywords=[])), Assign(targets=[Name(id='t2', ctx=Store())], value=Call(func=Name(id='time', ctx=Load()), args=[], keywords=[])), Assign(targets=[Tuple(elts=[Name(id='turn_prob_first', ctx=Store()), Name(id='turn_prob_second', ctx=Store()), Name(id='turn_prob_other', ctx=Store()), Name(id='exp_tile_points', ctx=Store())], ctx=Store())], value=Call(func=Name(id='turn_prob_numpy', ctx=Load()), args=[Name(id='game', ctx=Load()), Name(id='iter', ctx=Load())], keywords=[])), Assign(targets=[Name(id='t3', ctx=Store())], value=Call(func=Name(id='time', ctx=Load()), args=[], keywords=[])), Expr(value=Call(func=Attribute(value=Subscript(value=Name(id='performance', ctx=Load()), slice=Index(value=Str(s='Assign - turn_prob_first')), ctx=Load()), attr='append', ctx=Load()), args=[BinOp(left=Name(id='t3', ctx=Load()), op=Sub(), right=Name(id='t2', ctx=Load()))], keywords=[])), Assign(targets=[Name(id='t4', ctx=Store())], value=Call(func=Name(id='time', ctx=Load()), args=[], keywords=[])), Assign(targets=[Tuple(elts=[Name(id='game_prob_first', ctx=Store()), Name(id='game_prob_last', ctx=Store()), Name(id='game_prob_other', ctx=Store())], ctx=Store())], value=Call(func=Name(id='game_prob_numpy', ctx=Load()), args=[Name(id='game', ctx=Load()), Name(id='iter', ctx=Load())], keywords=[])), Assign(targets=[Name(id='t5', ctx=Store())], value=Call(func=Name(id='time', ctx=Load()), args=[], keywords=[])), Expr(value=Call(func=Attribute(value=Subscript(value=Name(id='performance', ctx=Load()), slice=Index(value=Str(s='Assign - game_prob_first')), ctx=Load()), attr='append', ctx=Load()), args=[BinOp(left=Name(id='t5', ctx=Load()), op=Sub(), right=Name(id='t4', ctx=Load()))], keywords=[])), Assign(targets=[Name(id='t6', ctx=Store())], value=Call(func=Name(id='time', ctx=Load()), args=[], keywords=[])), Assign(targets=[Tuple(elts=[Name(id='winner_bets', ctx=Store()), Name(id='loser_bets', ctx=Store())], ctx=Store())], value=Call(func=Name(id='winner_loser_bets_to_numpy', ctx=Load()), args=[Name(id='game', ctx=Load())], keywords=[])), Assign(targets=[Name(id='t7', ctx=Store())], value=Call(func=Name(id='time', ctx=Load()), args=[], keywords=[])), Expr(value=Call(func=Attribute(value=Subscript(value=Name(id='performance', ctx=Load()), slice=Index(value=Str(s='Assign - winner_bets')), ctx=Load()), attr='append', ctx=Load()), args=[BinOp(left=Name(id='t7', ctx=Load()), op=Sub(), right=Name(id='t6', ctx=Load()))], keywords=[])), Assign(targets=[Name(id='t8', ctx=Store())], value=Call(func=Name(id='time', ctx=Load()), args=[], keywords=[])), Assign(targets=[Name(id='bet_tiles', ctx=Store())], value=Call(func=Name(id='bet_tiles_to_numpy', ctx=Load()), args=[Name(id='game', ctx=Load())], keywords=[])), Assign(targets=[Name(id='t9', ctx=Store())], value=Call(func=Name(id='time', ctx=Load()), args=[], keywords=[])), Expr(value=Call(func=Attribute(value=Subscript(value=Name(id='performance', ctx=Load()), slice=Index(value=Str(s='Assign - bet_tiles')), ctx=Load()), attr='append', ctx=Load()), args=[BinOp(left=Name(id='t9', ctx=Load()), op=Sub(), right=Name(id='t8', ctx=Load()))], keywords=[])), Assign(targets=[Name(id='t10', ctx=Store())], value=Call(func=Name(id='time', ctx=Load()), args=[], keywords=[])), Expr(value=Call(func=Name(id='rename', ctx=Load()), args=[Name(id='turn_prob_first', ctx=Load()), List(elts=[Str(s='counts'), Str(s='prob')], ctx=Load()), Str(s='first')], keywords=[])), Assign(targets=[Name(id='t11', ctx=Store())], value=Call(func=Name(id='time', ctx=Load()), args=[], keywords=[])), Expr(value=Call(func=Attribute(value=Subscript(value=Name(id='performance', ctx=Load()), slice=Index(value=Str(s='Expr - rename')), ctx=Load()), attr='append', ctx=Load()), args=[BinOp(left=Name(id='t11', ctx=Load()), op=Sub(), right=Name(id='t10', ctx=Load()))], keywords=[])), Assign(targets=[Name(id='t12', ctx=Store())], value=Call(func=Name(id='time', ctx=Load()), args=[], keywords=[])), Expr(value=Call(func=Name(id='rename', ctx=Load()), args=[Name(id='turn_prob_second', ctx=Load()), List(elts=[Str(s='counts'), Str(s='prob')], ctx=Load()), Str(s='second')], keywords=[])), Assign(targets=[Name(id='t13', ctx=Store())], value=Call(func=Name(id='time', ctx=Load()), args=[], keywords=[])), Expr(value=Call(func=Attribute(value=Subscript(value=Name(id='performance', ctx=Load()), slice=Index(value=Str(s='Expr - rename')), ctx=Load()), attr='append', ctx=Load()), args=[BinOp(left=Name(id='t13', ctx=Load()), op=Sub(), right=Name(id='t12', ctx=Load()))], keywords=[])), Assign(targets=[Name(id='t14', ctx=Store())], value=Call(func=Name(id='time', ctx=Load()), args=[], keywords=[])), Expr(value=Call(func=Name(id='rename', ctx=Load()), args=[Name(id='turn_prob_other', ctx=Load()), List(elts=[Str(s='counts'), Str(s='prob')], ctx=Load()), Str(s='other')], keywords=[])), Assign(targets=[Name(id='t15', ctx=Store())], value=Call(func=Name(id='time', ctx=Load()), args=[], keywords=[])), Expr(value=Call(func=Attribute(value=Subscript(value=Name(id='performance', ctx=Load()), slice=Index(value=Str(s='Expr - rename')), ctx=Load()), attr='append', ctx=Load()), args=[BinOp(left=Name(id='t15', ctx=Load()), op=Sub(), right=Name(id='t14', ctx=Load()))], keywords=[])), Assign(targets=[Name(id='t16', ctx=Store())], value=Call(func=Name(id='time', ctx=Load()), args=[], keywords=[])), Assign(targets=[Name(id='bets', ctx=Store())], value=Call(func=Name(id='numpy_left_join', ctx=Load()), args=[Name(id='bet_tiles', ctx=Load()), Name(id='turn_prob_first', ctx=Load()), Str(s='camel')], keywords=[])), Assign(targets=[Name(id='t17', ctx=Store())], value=Call(func=Name(id='time', ctx=Load()), args=[], keywords=[])), Expr(value=Call(func=Attribute(value=Subscript(value=Name(id='performance', ctx=Load()), slice=Index(value=Str(s='Assign - bets')), ctx=Load()), attr='append', ctx=Load()), args=[BinOp(left=Name(id='t17', ctx=Load()), op=Sub(), right=Name(id='t16', ctx=Load()))], keywords=[])), Assign(targets=[Name(id='t18', ctx=Store())], value=Call(func=Name(id='time', ctx=Load()), args=[], keywords=[])), Assign(targets=[Name(id='bets', ctx=Store())], value=Call(func=Name(id='numpy_left_join', ctx=Load()), args=[Name(id='bets', ctx=Load()), Name(id='turn_prob_second', ctx=Load()), Str(s='camel')], keywords=[])), Assign(targets=[Name(id='t19', ctx=Store())], value=Call(func=Name(id='time', ctx=Load()), args=[], keywords=[])), Expr(value=Call(func=Attribute(value=Subscript(value=Name(id='performance', ctx=Load()), slice=Index(value=Str(s='Assign - bets')), ctx=Load()), attr='append', ctx=Load()), args=[BinOp(left=Name(id='t19', ctx=Load()), op=Sub(), right=Name(id='t18', ctx=Load()))], keywords=[])), Assign(targets=[Name(id='t20', ctx=Store())], value=Call(func=Name(id='time', ctx=Load()), args=[], keywords=[])), Assign(targets=[Name(id='bets', ctx=Store())], value=Call(func=Name(id='numpy_left_join', ctx=Load()), args=[Name(id='bets', ctx=Load()), Name(id='turn_prob_other', ctx=Load()), Str(s='camel')], keywords=[])), Assign(targets=[Name(id='t21', ctx=Store())], value=Call(func=Name(id='time', ctx=Load()), args=[], keywords=[])), Expr(value=Call(func=Attribute(value=Subscript(value=Name(id='performance', ctx=Load()), slice=Index(value=Str(s='Assign - bets')), ctx=Load()), attr='append', ctx=Load()), args=[BinOp(left=Name(id='t21', ctx=Load()), op=Sub(), right=Name(id='t20', ctx=Load()))], keywords=[])), Assign(targets=[Name(id='t22', ctx=Store())], value=Call(func=Name(id='time', ctx=Load()), args=[], keywords=[])), Assign(targets=[Name(id='multiply_array', ctx=Store())], value=BinOp(left=BinOp(left=BinOp(left=Subscript(value=Name(id='bets', ctx=Load()), slice=Index(value=Str(s='value')), ctx=Load()), op=Mult(), right=Subscript(value=Name(id='bets', ctx=Load()), slice=Index(value=Str(s='prob_first')), ctx=Load())), op=Add(), right=BinOp(left=Subscript(value=Name(id='bets', ctx=Load()), slice=Index(value=Str(s='bets')), ctx=Load()), op=Mult(), right=Subscript(value=Name(id='bets', ctx=Load()), slice=Index(value=Str(s='prob_second')), ctx=Load()))), op=Sub(), right=BinOp(left=Subscript(value=Name(id='bets', ctx=Load()), slice=Index(value=Str(s='bets')), ctx=Load()), op=Mult(), right=Subscript(value=Name(id='bets', ctx=Load()), slice=Index(value=Str(s='prob_other')), ctx=Load())))), Assign(targets=[Name(id='t23', ctx=Store())], value=Call(func=Name(id='time', ctx=Load()), args=[], keywords=[])), Expr(value=Call(func=Attribute(value=Subscript(value=Name(id='performance', ctx=Load()), slice=Index(value=Str(s='Assign - multiply_array')), ctx=Load()), attr='append', ctx=Load()), args=[BinOp(left=Name(id='t23', ctx=Load()), op=Sub(), right=Name(id='t22', ctx=Load()))], keywords=[])), Assign(targets=[Name(id='t24', ctx=Store())], value=Call(func=Name(id='time', ctx=Load()), args=[], keywords=[])), Assign(targets=[Name(id='bets', ctx=Store())], value=Call(func=Name(id='add_col_np', ctx=Load()), args=[Name(id='bets', ctx=Load()), Str(s='exp_value'), Name(id='multiply_array', ctx=Load())], keywords=[])), Assign(targets=[Name(id='t25', ctx=Store())], value=Call(func=Name(id='time', ctx=Load()), args=[], keywords=[])), Expr(value=Call(func=Attribute(value=Subscript(value=Name(id='performance', ctx=Load()), slice=Index(value=Str(s='Assign - bets')), ctx=Load()), attr='append', ctx=Load()), args=[BinOp(left=Name(id='t25', ctx=Load()), op=Sub(), right=Name(id='t24', ctx=Load()))], keywords=[])), Assign(targets=[Name(id='t26', ctx=Store())], value=Call(func=Name(id='time', ctx=Load()), args=[], keywords=[])), Assign(targets=[Name(id='bets_groupby', ctx=Store())], value=Call(func=Name(id='numpy_group_by_sum', ctx=Load()), args=[Name(id='bets', ctx=Load()), Str(s='player'), Str(s='exp_value')], keywords=[])), Assign(targets=[Name(id='t27', ctx=Store())], value=Call(func=Name(id='time', ctx=Load()), args=[], keywords=[])), Expr(value=Call(func=Attribute(value=Subscript(value=Name(id='performance', ctx=Load()), slice=Index(value=Str(s='Assign - bets_groupby')), ctx=Load()), attr='append', ctx=Load()), args=[BinOp(left=Name(id='t27', ctx=Load()), op=Sub(), right=Name(id='t26', ctx=Load()))], keywords=[])), Assign(targets=[Name(id='t28', ctx=Store())], value=Call(func=Name(id='time', ctx=Load()), args=[], keywords=[])), Assign(targets=[Name(id='final', ctx=Store())], value=Call(func=Name(id='numpy_left_join', ctx=Load()), args=[Name(id='coins', ctx=Load()), Name(id='exp_tile_points', ctx=Load()), Str(s='player')], keywords=[])), Assign(targets=[Name(id='t29', ctx=Store())], value=Call(func=Name(id='time', ctx=Load()), args=[], keywords=[])), Expr(value=Call(func=Attribute(value=Subscript(value=Name(id='performance', ctx=Load()), slice=Index(value=Str(s='Assign - final')), ctx=Load()), attr='append', ctx=Load()), args=[BinOp(left=Name(id='t29', ctx=Load()), op=Sub(), right=Name(id='t28', ctx=Load()))], keywords=[])), Assign(targets=[Name(id='t30', ctx=Store())], value=Call(func=Name(id='time', ctx=Load()), args=[], keywords=[])), Assign(targets=[Name(id='final', ctx=Store())], value=Call(func=Name(id='numpy_left_join', ctx=Load()), args=[Name(id='final', ctx=Load()), Name(id='bets_groupby', ctx=Load()), Str(s='player')], keywords=[])), Assign(targets=[Name(id='t31', ctx=Store())], value=Call(func=Name(id='time', ctx=Load()), args=[], keywords=[])), Expr(value=Call(func=Attribute(value=Subscript(value=Name(id='performance', ctx=Load()), slice=Index(value=Str(s='Assign - final')), ctx=Load()), attr='append', ctx=Load()), args=[BinOp(left=Name(id='t31', ctx=Load()), op=Sub(), right=Name(id='t30', ctx=Load()))], keywords=[])), Assign(targets=[Name(id='t32', ctx=Store())], value=Call(func=Name(id='time', ctx=Load()), args=[], keywords=[])), Assign(targets=[Name(id='game_first', ctx=Store())], value=Call(func=Name(id='numpy_left_join', ctx=Load()), args=[Name(id='winner_bets', ctx=Load()), Name(id='game_prob_first', ctx=Load()), Str(s='camel')], keywords=[])), Assign(targets=[Name(id='t33', ctx=Store())], value=Call(func=Name(id='time', ctx=Load()), args=[], keywords=[])), Expr(value=Call(func=Attribute(value=Subscript(value=Name(id='performance', ctx=Load()), slice=Index(value=Str(s='Assign - game_first')), ctx=Load()), attr='append', ctx=Load()), args=[BinOp(left=Name(id='t33', ctx=Load()), op=Sub(), right=Name(id='t32', ctx=Load()))], keywords=[])), Assign(targets=[Name(id='t34', ctx=Store())], value=Call(func=Name(id='time', ctx=Load()), args=[], keywords=[])), Assign(targets=[Name(id='game_last', ctx=Store())], value=Call(func=Name(id='numpy_left_join', ctx=Load()), args=[Name(id='loser_bets', ctx=Load()), Name(id='game_prob_last', ctx=Load()), Str(s='camel')], keywords=[])), Assign(targets=[Name(id='t35', ctx=Store())], value=Call(func=Name(id='time', ctx=Load()), args=[], keywords=[])), Expr(value=Call(func=Attribute(value=Subscript(value=Name(id='performance', ctx=Load()), slice=Index(value=Str(s='Assign - game_last')), ctx=Load()), attr='append', ctx=Load()), args=[BinOp(left=Name(id='t35', ctx=Load()), op=Sub(), right=Name(id='t34', ctx=Load()))], keywords=[])), Assign(targets=[Name(id='t36', ctx=Store())], value=Call(func=Name(id='time', ctx=Load()), args=[], keywords=[])), Assign(targets=[Name(id='game_winner_other', ctx=Store())], value=Call(func=Name(id='numpy_left_join', ctx=Load()), args=[Name(id='winner_bets', ctx=Load()), Name(id='game_prob_other', ctx=Load()), Str(s='camel')], keywords=[])), Assign(targets=[Name(id='t37', ctx=Store())], value=Call(func=Name(id='time', ctx=Load()), args=[], keywords=[])), Expr(value=Call(func=Attribute(value=Subscript(value=Name(id='performance', ctx=Load()), slice=Index(value=Str(s='Assign - game_winner_other')), ctx=Load()), attr='append', ctx=Load()), args=[BinOp(left=Name(id='t37', ctx=Load()), op=Sub(), right=Name(id='t36', ctx=Load()))], keywords=[])), Assign(targets=[Name(id='t38', ctx=Store())], value=Call(func=Name(id='time', ctx=Load()), args=[], keywords=[])), Assign(targets=[Name(id='game_loser_other', ctx=Store())], value=Call(func=Name(id='numpy_left_join', ctx=Load()), args=[Name(id='loser_bets', ctx=Load()), Name(id='game_prob_other', ctx=Load()), Str(s='camel')], keywords=[])), Assign(targets=[Name(id='t39', ctx=Store())], value=Call(func=Name(id='time', ctx=Load()), args=[], keywords=[])), Expr(value=Call(func=Attribute(value=Subscript(value=Name(id='performance', ctx=Load()), slice=Index(value=Str(s='Assign - game_loser_other')), ctx=Load()), attr='append', ctx=Load()), args=[BinOp(left=Name(id='t39', ctx=Load()), op=Sub(), right=Name(id='t38', ctx=Load()))], keywords=[])), Assign(targets=[Name(id='t40', ctx=Store())], value=Call(func=Name(id='time', ctx=Load()), args=[], keywords=[])), Assign(targets=[Name(id='game_first', ctx=Store())], value=Call(func=Name(id='add_col_np', ctx=Load()), args=[Name(id='game_first', ctx=Load()), Str(s='points'), Subscript(value=Attribute(value=Name(id='config', ctx=Load()), attr='BET_SCALING', ctx=Load()), slice=Slice(lower=Num(n=0), upper=Subscript(value=Attribute(value=Name(id='game_first', ctx=Load()), attr='shape', ctx=Load()), slice=Index(value=Num(n=0)), ctx=Load()), step=None), ctx=Load())], keywords=[])), Assign(targets=[Name(id='t41', ctx=Store())], value=Call(func=Name(id='time', ctx=Load()), args=[], keywords=[])), Expr(value=Call(func=Attribute(value=Subscript(value=Name(id='performance', ctx=Load()), slice=Index(value=Str(s='Assign - game_first')), ctx=Load()), attr='append', ctx=Load()), args=[BinOp(left=Name(id='t41', ctx=Load()), op=Sub(), right=Name(id='t40', ctx=Load()))], keywords=[])), Assign(targets=[Name(id='t42', ctx=Store())], value=Call(func=Name(id='time', ctx=Load()), args=[], keywords=[])), Assign(targets=[Name(id='game_last', ctx=Store())], value=Call(func=Name(id='add_col_np', ctx=Load()), args=[Name(id='game_last', ctx=Load()), Str(s='points'), Subscript(value=Attribute(value=Name(id='config', ctx=Load()), attr='BET_SCALING', ctx=Load()), slice=Slice(lower=Num(n=0), upper=Subscript(value=Attribute(value=Name(id='game_last', ctx=Load()), attr='shape', ctx=Load()), slice=Index(value=Num(n=0)), ctx=Load()), step=None), ctx=Load())], keywords=[])), Assign(targets=[Name(id='t43', ctx=Store())], value=Call(func=Name(id='time', ctx=Load()), args=[], keywords=[])), Expr(value=Call(func=Attribute(value=Subscript(value=Name(id='performance', ctx=Load()), slice=Index(value=Str(s='Assign - game_last')), ctx=Load()), attr='append', ctx=Load()), args=[BinOp(left=Name(id='t43', ctx=Load()), op=Sub(), right=Name(id='t42', ctx=Load()))], keywords=[])), Assign(targets=[Name(id='t44', ctx=Store())], value=Call(func=Name(id='time', ctx=Load()), args=[], keywords=[])), Assign(targets=[Name(id='game_winner_other', ctx=Store())], value=Call(func=Name(id='add_col_np', ctx=Load()), args=[Name(id='game_winner_other', ctx=Load()), Str(s='points'), BinOp(left=List(elts=[Num(n=1)], ctx=Load()), op=Mult(), right=Subscript(value=Attribute(value=Name(id='game_winner_other', ctx=Load()), attr='shape', ctx=Load()), slice=Index(value=Num(n=0)), ctx=Load()))], keywords=[])), Assign(targets=[Name(id='t45', ctx=Store())], value=Call(func=Name(id='time', ctx=Load()), args=[], keywords=[])), Expr(value=Call(func=Attribute(value=Subscript(value=Name(id='performance', ctx=Load()), slice=Index(value=Str(s='Assign - game_winner_other')), ctx=Load()), attr='append', ctx=Load()), args=[BinOp(left=Name(id='t45', ctx=Load()), op=Sub(), right=Name(id='t44', ctx=Load()))], keywords=[])), Assign(targets=[Name(id='t46', ctx=Store())], value=Call(func=Name(id='time', ctx=Load()), args=[], keywords=[])), Assign(targets=[Name(id='game_loser_other', ctx=Store())], value=Call(func=Name(id='add_col_np', ctx=Load()), args=[Name(id='game_loser_other', ctx=Load()), Str(s='points'), BinOp(left=List(elts=[Num(n=1)], ctx=Load()), op=Mult(), right=Subscript(value=Attribute(value=Name(id='game_loser_other', ctx=Load()), attr='shape', ctx=Load()), slice=Index(value=Num(n=0)), ctx=Load()))], keywords=[])), Assign(targets=[Name(id='t47', ctx=Store())], value=Call(func=Name(id='time', ctx=Load()), args=[], keywords=[])), Expr(value=Call(func=Attribute(value=Subscript(value=Name(id='performance', ctx=Load()), slice=Index(value=Str(s='Assign - game_loser_other')), ctx=Load()), attr='append', ctx=Load()), args=[BinOp(left=Name(id='t47', ctx=Load()), op=Sub(), right=Name(id='t46', ctx=Load()))], keywords=[])), Assign(targets=[Name(id='t48', ctx=Store())], value=Call(func=Name(id='time', ctx=Load()), args=[], keywords=[])), Assign(targets=[Name(id='final', ctx=Store())], value=Call(func=Name(id='numpy_left_join', ctx=Load()), args=[Name(id='final', ctx=Load()), Call(func=Name(id='calc_exp_value_np', ctx=Load()), args=[Name(id='game_first', ctx=Load()), Str(s='exp_value_first')], keywords=[]), Str(s='player')], keywords=[])), Assign(targets=[Name(id='t49', ctx=Store())], value=Call(func=Name(id='time', ctx=Load()), args=[], keywords=[])), Expr(value=Call(func=Attribute(value=Subscript(value=Name(id='performance', ctx=Load()), slice=Index(value=Str(s='Assign - final')), ctx=Load()), attr='append', ctx=Load()), args=[BinOp(left=Name(id='t49', ctx=Load()), op=Sub(), right=Name(id='t48', ctx=Load()))], keywords=[])), Assign(targets=[Name(id='t50', ctx=Store())], value=Call(func=Name(id='time', ctx=Load()), args=[], keywords=[])), Assign(targets=[Name(id='final', ctx=Store())], value=Call(func=Name(id='numpy_left_join', ctx=Load()), args=[Name(id='final', ctx=Load()), Call(func=Name(id='calc_exp_value_np', ctx=Load()), args=[Name(id='game_last', ctx=Load()), Str(s='exp_value_last')], keywords=[]), Str(s='player')], keywords=[])), Assign(targets=[Name(id='t51', ctx=Store())], value=Call(func=Name(id='time', ctx=Load()), args=[], keywords=[])), Expr(value=Call(func=Attribute(value=Subscript(value=Name(id='performance', ctx=Load()), slice=Index(value=Str(s='Assign - final')), ctx=Load()), attr='append', ctx=Load()), args=[BinOp(left=Name(id='t51', ctx=Load()), op=Sub(), right=Name(id='t50', ctx=Load()))], keywords=[])), Assign(targets=[Name(id='t52', ctx=Store())], value=Call(func=Name(id='time', ctx=Load()), args=[], keywords=[])), Assign(targets=[Name(id='final', ctx=Store())], value=Call(func=Name(id='numpy_left_join', ctx=Load()), args=[Name(id='final', ctx=Load()), Call(func=Name(id='calc_exp_value_np', ctx=Load()), args=[Name(id='game_winner_other', ctx=Load()), Str(s='exp_value_winner_other')], keywords=[]), Str(s='player')], keywords=[])), Assign(targets=[Name(id='t53', ctx=Store())], value=Call(func=Name(id='time', ctx=Load()), args=[], keywords=[])), Expr(value=Call(func=Attribute(value=Subscript(value=Name(id='performance', ctx=Load()), slice=Index(value=Str(s='Assign - final')), ctx=Load()), attr='append', ctx=Load()), args=[BinOp(left=Name(id='t53', ctx=Load()), op=Sub(), right=Name(id='t52', ctx=Load()))], keywords=[])), Assign(targets=[Name(id='t54', ctx=Store())], value=Call(func=Name(id='time', ctx=Load()), args=[], keywords=[])), Assign(targets=[Name(id='final', ctx=Store())], value=Call(func=Name(id='numpy_left_join', ctx=Load()), args=[Name(id='final', ctx=Load()), Call(func=Name(id='calc_exp_value_np', ctx=Load()), args=[Name(id='game_loser_other', ctx=Load()), Str(s='exp_value_loser_other')], keywords=[]), Str(s='player')], keywords=[])), Assign(targets=[Name(id='t55', ctx=Store())], value=Call(func=Name(id='time', ctx=Load()), args=[], keywords=[])), Expr(value=Call(func=Attribute(value=Subscript(value=Name(id='performance', ctx=Load()), slice=Index(value=Str(s='Assign - final')), ctx=Load()), attr='append', ctx=Load()), args=[BinOp(left=Name(id='t55', ctx=Load()), op=Sub(), right=Name(id='t54', ctx=Load()))], keywords=[])), Assign(targets=[Name(id='t56', ctx=Store())], value=Call(func=Name(id='time', ctx=Load()), args=[], keywords=[])), Assign(targets=[Name(id='multiply_array', ctx=Store())], value=BinOp(left=BinOp(left=BinOp(left=BinOp(left=BinOp(left=BinOp(left=Subscript(value=Name(id='final', ctx=Load()), slice=Index(value=Str(s='coins')), ctx=Load()), op=Add(), right=Subscript(value=Name(id='final', ctx=Load()), slice=Index(value=Str(s='points')), ctx=Load())), op=Add(), right=Subscript(value=Name(id='final', ctx=Load()), slice=Index(value=Str(s='exp_value')), ctx=Load())), op=Add(), right=Subscript(value=Name(id='final', ctx=Load()), slice=Index(value=Str(s='exp_value_first')), ctx=Load())), op=Add(), right=Subscript(value=Name(id='final', ctx=Load()), slice=Index(value=Str(s='exp_value_last')), ctx=Load())), op=Sub(), right=Subscript(value=Name(id='final', ctx=Load()), slice=Index(value=Str(s='exp_value_winner_other')), ctx=Load())), op=Sub(), right=Subscript(value=Name(id='final', ctx=Load()), slice=Index(value=Str(s='exp_value_loser_other')), ctx=Load()))), Assign(targets=[Name(id='t57', ctx=Store())], value=Call(func=Name(id='time', ctx=Load()), args=[], keywords=[])), Expr(value=Call(func=Attribute(value=Subscript(value=Name(id='performance', ctx=Load()), slice=Index(value=Str(s='Assign - multiply_array')), ctx=Load()), attr='append', ctx=Load()), args=[BinOp(left=Name(id='t57', ctx=Load()), op=Sub(), right=Name(id='t56', ctx=Load()))], keywords=[])), Assign(targets=[Name(id='t58', ctx=Store())], value=Call(func=Name(id='time', ctx=Load()), args=[], keywords=[])), Assign(targets=[Name(id='final', ctx=Store())], value=Call(func=Name(id='add_col_np', ctx=Load()), args=[Name(id='final', ctx=Load()), Str(s='utility'), Name(id='multiply_array', ctx=Load())], keywords=[])), Assign(targets=[Name(id='t59', ctx=Store())], value=Call(func=Name(id='time', ctx=Load()), args=[], keywords=[])), Expr(value=Call(func=Attribute(value=Subscript(value=Name(id='performance', ctx=Load()), slice=Index(value=Str(s='Assign - final')), ctx=Load()), attr='append', ctx=Load()), args=[BinOp(left=Name(id='t59', ctx=Load()), op=Sub(), right=Name(id='t58', ctx=Load()))], keywords=[]))], decorator_list=[], returns=None)])\n"
     ]
    }
   ],
   "source": [
    "func_str = inspect.getsource(calc_utility)\n",
    "tree = ast.parse(StringIO(func_str).read())\n",
    "global performance\n",
    "performance = dict()\n",
    "exec(compile(create_benchmark_func(tree, performance), filename=\"<ast>\", mode=\"exec\"))\n",
    "print(ast.dump(tree))"
   ]
  },
  {
   "cell_type": "code",
   "execution_count": 31,
   "metadata": {},
   "outputs": [
    {
     "name": "stdout",
     "output_type": "stream",
     "text": [
      "CPU times: user 4.57 s, sys: 32.7 ms, total: 4.6 s\n",
      "Wall time: 4.65 s\n"
     ]
    }
   ],
   "source": [
    "%%time\n",
    "for i in range(100):\n",
    "    benchmark_calc_utility(deepcopy(game),100)"
   ]
  },
  {
   "cell_type": "markdown",
   "metadata": {},
   "source": [
    "## 4 second vs 14 seconds!"
   ]
  },
  {
   "cell_type": "code",
   "execution_count": 32,
   "metadata": {
    "scrolled": true
   },
   "outputs": [
    {
     "name": "stdout",
     "output_type": "stream",
     "text": [
      "Assign - coins = 0.001409292221069336\n",
      "Assign - turn_prob_first = 1.0147919654846191\n",
      "Assign - game_prob_first = 2.9141907691955566\n",
      "Assign - winner_bets = 0.0016117095947265625\n",
      "Assign - bet_tiles = 0.0018596649169921875\n",
      "Expr - rename = 0.0013267993927001953\n",
      "Assign - bets = 0.11316633224487305\n",
      "Assign - multiply_array = 0.005779266357421875\n",
      "Assign - bets_groupby = 0.00940847396850586\n",
      "Assign - final = 0.33826398849487305\n",
      "Assign - game_first = 0.05641627311706543\n",
      "Assign - game_last = 0.0517888069152832\n",
      "Assign - game_winner_other = 0.05377554893493652\n",
      "Assign - game_loser_other = 0.05129075050354004\n"
     ]
    }
   ],
   "source": [
    "for key, val in performance.items():\n",
    "    print(f'{key} = {np.sum(val)}')"
   ]
  }
 ],
 "metadata": {
  "kernelspec": {
   "display_name": "Python 3",
   "language": "python",
   "name": "python3"
  },
  "language_info": {
   "codemirror_mode": {
    "name": "ipython",
    "version": 3
   },
   "file_extension": ".py",
   "mimetype": "text/x-python",
   "name": "python",
   "nbconvert_exporter": "python",
   "pygments_lexer": "ipython3",
   "version": "3.7.3"
  }
 },
 "nbformat": 4,
 "nbformat_minor": 2
}
