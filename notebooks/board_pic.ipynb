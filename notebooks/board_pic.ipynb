{
 "cells": [
  {
   "cell_type": "code",
   "execution_count": 1,
   "metadata": {},
   "outputs": [],
   "source": [
    "from PIL import Image, ImageDraw, ImageFont, ImageTk\n",
    "from IPython.display import display\n",
    "from camelup import camelup, config\n",
    "from glob import glob"
   ]
  },
  {
   "cell_type": "code",
   "execution_count": 2,
   "metadata": {},
   "outputs": [],
   "source": [
    "game = camelup.Game(3)\n",
    "\n",
    "camel_dict = {\n",
    "    \"white\": {\"height\":1, \"space\":3, \"need_roll\": True},\n",
    "    \"red\": {\"height\": 2, \"space\": 3, \"need_roll\": True},\n",
    "    \"blue\": {\"height\": 3, \"space\": 3, \"need_roll\": True},\n",
    "    \"green\": {\"height\": 1, \"space\": 16, \"need_roll\": True},\n",
    "    \"yellow\": {\"height\": 4, \"space\": 3, \"need_roll\": True},\n",
    "}\n",
    "game.camel_dict = camel_dict\n",
    "\n",
    "tiles_dict = {\n",
    "    1:{\"tile_type\":\"block\",\"owner\":1}\n",
    "}\n",
    "game.tiles_dict = tiles_dict"
   ]
  },
  {
   "cell_type": "code",
   "execution_count": 3,
   "metadata": {},
   "outputs": [],
   "source": [
    "img = Image.new('RGB', (500, 500), color = (236,192,81))\n",
    "img.save('camel.png')"
   ]
  },
  {
   "cell_type": "code",
   "execution_count": 4,
   "metadata": {},
   "outputs": [],
   "source": [
    "font = ImageFont.truetype(\"../fonts/arial.ttf\", 9)\n",
    "board_info = dict()\n",
    "draw = ImageDraw.Draw(img)\n",
    "border = 5\n",
    "width = (img.size[0]-border*2)/5\n",
    "height = (img.size[1]-border*2)/5\n",
    "space = 1\n",
    "top_left_corner = (border,border)\n",
    "bottom_right_corner = (top_left_corner[0] + width, top_left_corner[1] + height)\n",
    "draw.rectangle([top_left_corner, bottom_right_corner], fill = (251,207,41), outline = (29,29,29))\n",
    "draw.text((top_left_corner[0]+2, top_left_corner[1]+2), str(space), font=font, fill=(0,0,0))\n",
    "board_info[space]=(top_left_corner,bottom_right_corner)\n",
    "space += 1\n",
    "for i in range(4):\n",
    "    top_left_corner = (top_left_corner[0] + width, top_left_corner[1])\n",
    "    bottom_right_corner = (top_left_corner[0] + width, top_left_corner[1] + height)\n",
    "    draw.rectangle([top_left_corner, bottom_right_corner], fill = (251,207,41), outline = (29,29,29))\n",
    "    draw.text((top_left_corner[0]+2, top_left_corner[1]+2), str(space), font=font, fill=(0,0,0))\n",
    "    board_info[space]=(top_left_corner,bottom_right_corner)\n",
    "    space +=1\n",
    "for i in range(4):\n",
    "    top_left_corner = (top_left_corner[0], top_left_corner[1]+ height)\n",
    "    bottom_right_corner = (top_left_corner[0] + width, top_left_corner[1] + height)\n",
    "    draw.rectangle([top_left_corner, bottom_right_corner], fill = (251,207,41), outline = (29,29,29))\n",
    "    draw.text((top_left_corner[0]+2, top_left_corner[1]+2), str(space), font=font, fill=(0,0,0))\n",
    "    board_info[space]=(top_left_corner,bottom_right_corner)\n",
    "    space +=1\n",
    "for i in range(4):\n",
    "    top_left_corner = (top_left_corner[0] - width, top_left_corner[1])\n",
    "    bottom_right_corner = (top_left_corner[0] + width, top_left_corner[1] + height)\n",
    "    draw.rectangle([top_left_corner, bottom_right_corner], fill = (251,207,41), outline = (29,29,29))\n",
    "    draw.text((top_left_corner[0]+2, top_left_corner[1]+2), str(space), font=font, fill=(0,0,0))\n",
    "    board_info[space]=(top_left_corner,bottom_right_corner)\n",
    "    space +=1\n",
    "for i in range(3):\n",
    "    top_left_corner = (top_left_corner[0], top_left_corner[1]- height)\n",
    "    bottom_right_corner = (top_left_corner[0] + width, top_left_corner[1] + height)\n",
    "    draw.rectangle([top_left_corner, bottom_right_corner], fill = (251,207,41), outline = (29,29,29))\n",
    "    draw.text((top_left_corner[0]+2, top_left_corner[1]+2), str(space), font=font, fill=(0,0,0))\n",
    "    board_info[space]=(top_left_corner,bottom_right_corner)\n",
    "    space +=1   \n",
    "draw.text((120, 340), 'To Be Rolled', font=font, fill=(0,0,0))\n",
    "\n",
    "bet_str = 'Bet Tiles (Colour - Value)'\n",
    "for key, val in game.bet_tiles.items():\n",
    "    bet_str += f'\\n{key} - {val[0]}'\n",
    "draw.text((120, 120), bet_str, font=font, fill=(0,0,0))   \n",
    "    \n",
    "player_str = 'Player Items'\n",
    "for key, val in game.player_dict.items():\n",
    "    player_str += f'\\nPlayer: {key} Coins: {val[\"coins\"]} Bet Tiles: '\n",
    "    for tile, bets in game.player_dict[key]['bet_tiles'].items():\n",
    "        player_str += f'{tile[0]}('\n",
    "        player_str += ', '.join(str(x) for x in bets)\n",
    "        player_str += ') '\n",
    "draw.text((120, 220), player_str, font=font, fill=(0,0,0))\n",
    "\n",
    "game_str = f'Winner Bets: {len(game.winner_bets)}\\nLoser Bets: {len(game.winner_bets)}'\n",
    "draw.text((300, 120), game_str, font=font, fill=(0,0,0))"
   ]
  },
  {
   "cell_type": "code",
   "execution_count": 5,
   "metadata": {},
   "outputs": [],
   "source": [
    "def open_camel(file):\n",
    "    camel = Image.open(file)\n",
    "    transparency = Image.new('RGBA', camel.size, (0, 0, 0, 0))\n",
    "    transparency.paste(camel, (0,0))\n",
    "    per = 0.1\n",
    "    wsize = int(transparency.size[0]*per)\n",
    "    hsize = int(transparency.size[1]*per)\n",
    "    return transparency.resize((wsize,hsize), Image.ANTIALIAS)\n",
    "    "
   ]
  },
  {
   "cell_type": "code",
   "execution_count": 6,
   "metadata": {},
   "outputs": [],
   "source": [
    "def place_camel_dict(game, board_info):\n",
    "    counter = 0\n",
    "    for camel, values in camel_dict.items():\n",
    "        file = glob(f'../img/*{camel}*')[0]\n",
    "        pic = open_camel(file)\n",
    "        square = board_info[values['space']]\n",
    "        x = int(square[0][0] + width/2-(pic.size[0]/2))\n",
    "        y = int(square[1][1] - pic.size[0] - ((values['height']-1)*14))\n",
    "        img.paste(pic, (x,y), mask = pic)\n",
    "        if values['need_roll']:\n",
    "            x = 120 + counter*35 \n",
    "            y = 350\n",
    "            img.paste(pic, (x,y), mask = pic)\n",
    "            counter +=1"
   ]
  },
  {
   "cell_type": "code",
   "execution_count": 7,
   "metadata": {},
   "outputs": [],
   "source": [
    "def place_tiles(game,board_info):\n",
    "    for space, val in game.tiles_dict.items():\n",
    "        tile = board_info[space]\n",
    "        top_left_corner = (tile[0][0]+10,tile[0][1]+10)\n",
    "        bottom_right_corner = (tile[1][0]-10,tile[1][1]-10)\n",
    "        draw.rectangle([top_left_corner, bottom_right_corner], fill = (255,225,255), outline = (29,29,29))\n",
    "        draw.text((tile[0][0]+25, tile[0][1]+35), val['tile_type'], font=font, fill=(0,0,0))\n",
    "    "
   ]
  },
  {
   "cell_type": "code",
   "execution_count": 8,
   "metadata": {},
   "outputs": [],
   "source": [
    "place_camel_dict(game,board_info)\n",
    "place_tiles(game,board_info)"
   ]
  },
  {
   "cell_type": "code",
   "execution_count": 9,
   "metadata": {
    "scrolled": false
   },
   "outputs": [
    {
     "data": {
      "image/png": "[encoded data removed]",
      "text/plain": [
       "<PIL.Image.Image image mode=RGB size=500x500 at 0x118D508D0>"
      ]
     },
     "execution_count": 9,
     "metadata": {},
     "output_type": "execute_result"
    }
   ],
   "source": [
    "img"
   ]
  },
  {
   "cell_type": "code",
   "execution_count": 10,
   "metadata": {},
   "outputs": [],
   "source": [
    "from tkinter import *\n",
    "from tkinter import ttk"
   ]
  },
  {
   "cell_type": "code",
   "execution_count": 11,
   "metadata": {},
   "outputs": [],
   "source": [
    "def play(event):\n",
    "    print(combo.get())\n",
    "    game.play(game.available_moves()[combo.get()])"
   ]
  },
  {
   "cell_type": "code",
   "execution_count": 12,
   "metadata": {
    "scrolled": false
   },
   "outputs": [
    {
     "name": "stdout",
     "output_type": "stream",
     "text": [
      "Bet Game Winner yellow\n",
      "Place Skip Tile At 15\n"
     ]
    }
   ],
   "source": [
    "root = Toplevel()\n",
    "root.title(\"Test\")\n",
    "mainframe = ttk.Frame(root, padding=\"3 3 12 12\")\n",
    "mainframe.grid(column=0, row=0, sticky=(N, W, E, S))\n",
    "root.columnconfigure(0, weight=1)\n",
    "root.rowconfigure(0, weight=1)\n",
    "\n",
    "\n",
    "combo = ttk.Combobox(mainframe, \n",
    "                values=list(game.available_moves().keys()))\n",
    "combo.grid(column = 1, row = 0)\n",
    "combo.current(0)\n",
    "\n",
    "\n",
    "label = Label(mainframe)\n",
    "label.img = ImageTk.PhotoImage(img)\n",
    "label.config(image=label.img)\n",
    "label.grid(column = 0, row = 0)\n",
    "\n",
    "combo.bind(\"<<ComboboxSelected>>\", play)\n",
    "root.mainloop()\n",
    "\n"
   ]
  },
  {
   "cell_type": "code",
   "execution_count": 14,
   "metadata": {},
   "outputs": [
    {
     "data": {
      "text/plain": [
       "{1: {'tile_type': 'block', 'owner': 1}, 15: {'tile_type': 'skip', 'player': 2}}"
      ]
     },
     "execution_count": 14,
     "metadata": {},
     "output_type": "execute_result"
    }
   ],
   "source": [
    "game.tiles_dict"
   ]
  }
 ],
 "metadata": {
  "kernelspec": {
   "display_name": "Python 3",
   "language": "python",
   "name": "python3"
  },
  "language_info": {
   "codemirror_mode": {
    "name": "ipython",
    "version": 3
   },
   "file_extension": ".py",
   "mimetype": "text/x-python",
   "name": "python",
   "nbconvert_exporter": "python",
   "pygments_lexer": "ipython3",
   "version": "3.7.3"
  }
 },
 "nbformat": 4,
 "nbformat_minor": 2
}
