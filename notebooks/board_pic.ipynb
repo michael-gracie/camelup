{
 "cells": [
  {
   "cell_type": "code",
   "execution_count": 1,
   "metadata": {},
   "outputs": [],
   "source": [
    "from PIL import Image, ImageDraw, ImageFont, ImageTk\n",
    "from IPython.display import display\n",
    "from camelup import camelup, config\n",
    "from glob import glob\n",
    "import random\n",
    "import os\n",
    "import sys"
   ]
  },
  {
   "cell_type": "code",
   "execution_count": 2,
   "metadata": {},
   "outputs": [],
   "source": [
    "game = camelup.Game(3)\n",
    "\n",
    "camel_dict = {\n",
    "    \"white\": {\"height\":1, \"space\":3, \"need_roll\": True},\n",
    "    \"red\": {\"height\": 2, \"space\": 3, \"need_roll\": True},\n",
    "    \"blue\": {\"height\": 3, \"space\": 3, \"need_roll\": True},\n",
    "    \"green\": {\"height\": 1, \"space\": 16, \"need_roll\": True},\n",
    "    \"yellow\": {\"height\": 4, \"space\": 3, \"need_roll\": True},\n",
    "}\n",
    "game.camel_dict = camel_dict\n",
    "\n",
    "tiles_dict = {\n",
    "    1:{\"tile_type\":\"block\",\"owner\":1}\n",
    "}\n",
    "game.tiles_dict = tiles_dict"
   ]
  },
  {
   "cell_type": "code",
   "execution_count": 3,
   "metadata": {},
   "outputs": [],
   "source": [
    "img = Image.new('RGB', (500, 500), color = (236,192,81))\n",
    "font = ImageFont.truetype(\"../fonts/arial.ttf\", 9)"
   ]
  },
  {
   "cell_type": "code",
   "execution_count": 4,
   "metadata": {},
   "outputs": [],
   "source": [
    "def create_board(img):\n",
    "    board_info = dict()\n",
    "    draw = ImageDraw.Draw(img)\n",
    "    border = 5\n",
    "    width = (img.size[0]-border*2)/5\n",
    "    height = (img.size[1]-border*2)/5\n",
    "    space = 1\n",
    "    top_left_corner = (border,border)\n",
    "    bottom_right_corner = (top_left_corner[0] + width, top_left_corner[1] + height)\n",
    "    draw.rectangle([top_left_corner, bottom_right_corner], fill = (251,207,41), outline = (29,29,29))\n",
    "    draw.text((top_left_corner[0]+2, top_left_corner[1]+2), str(space), font=font, fill=(0,0,0))\n",
    "    board_info[space]=(top_left_corner,bottom_right_corner)\n",
    "    space += 1\n",
    "    for i in range(4):\n",
    "        top_left_corner = (top_left_corner[0] + width, top_left_corner[1])\n",
    "        bottom_right_corner = (top_left_corner[0] + width, top_left_corner[1] + height)\n",
    "        draw.rectangle([top_left_corner, bottom_right_corner], fill = (251,207,41), outline = (29,29,29))\n",
    "        draw.text((top_left_corner[0]+2, top_left_corner[1]+2), str(space), font=font, fill=(0,0,0))\n",
    "        board_info[space]=(top_left_corner,bottom_right_corner)\n",
    "        space +=1\n",
    "    for i in range(4):\n",
    "        top_left_corner = (top_left_corner[0], top_left_corner[1]+ height)\n",
    "        bottom_right_corner = (top_left_corner[0] + width, top_left_corner[1] + height)\n",
    "        draw.rectangle([top_left_corner, bottom_right_corner], fill = (251,207,41), outline = (29,29,29))\n",
    "        draw.text((top_left_corner[0]+2, top_left_corner[1]+2), str(space), font=font, fill=(0,0,0))\n",
    "        board_info[space]=(top_left_corner,bottom_right_corner)\n",
    "        space +=1\n",
    "    for i in range(4):\n",
    "        top_left_corner = (top_left_corner[0] - width, top_left_corner[1])\n",
    "        bottom_right_corner = (top_left_corner[0] + width, top_left_corner[1] + height)\n",
    "        draw.rectangle([top_left_corner, bottom_right_corner], fill = (251,207,41), outline = (29,29,29))\n",
    "        draw.text((top_left_corner[0]+2, top_left_corner[1]+2), str(space), font=font, fill=(0,0,0))\n",
    "        board_info[space]=(top_left_corner,bottom_right_corner)\n",
    "        space +=1\n",
    "    for i in range(3):\n",
    "        top_left_corner = (top_left_corner[0], top_left_corner[1]- height)\n",
    "        bottom_right_corner = (top_left_corner[0] + width, top_left_corner[1] + height)\n",
    "        draw.rectangle([top_left_corner, bottom_right_corner], fill = (251,207,41), outline = (29,29,29))\n",
    "        draw.text((top_left_corner[0]+2, top_left_corner[1]+2), str(space), font=font, fill=(0,0,0))\n",
    "        board_info[space]=(top_left_corner,bottom_right_corner)\n",
    "        space +=1   \n",
    "    draw.text((120, 340), 'To Be Rolled', font=font, fill=(0,0,0))\n",
    "\n",
    "    bet_str = 'Bet Tiles (Colour - Value)'\n",
    "    for key, val in game.bet_tiles.items():\n",
    "        bet_str += f'\\n{key} - {val[0]}'\n",
    "    draw.text((120, 120), bet_str, font=font, fill=(0,0,0))   \n",
    "\n",
    "    player_str = 'Player Items'\n",
    "    for key, val in game.player_dict.items():\n",
    "        player_str += f'\\n{val[\"name\"]} Coins: {val[\"coins\"]} Bet Tiles: '\n",
    "        for tile, bets in game.player_dict[key]['bet_tiles'].items():\n",
    "            player_str += f'{tile[0]}('\n",
    "            player_str += ', '.join(str(x) for x in bets)\n",
    "            player_str += ') '\n",
    "    draw.text((120, 220), player_str, font=font, fill=(0,0,0))\n",
    "\n",
    "    game_str = f'Winner Bets: {len(game.winner_bets)}\\nLoser Bets: {len(game.loser_bets)}'\n",
    "    draw.text((300, 120), game_str, font=font, fill=(0,0,0))\n",
    "    return board_info"
   ]
  },
  {
   "cell_type": "code",
   "execution_count": 5,
   "metadata": {},
   "outputs": [],
   "source": [
    "def modulo_space(space):\n",
    "    if space % 16 == 0:\n",
    "        return 16\n",
    "    else:\n",
    "        return space % 16"
   ]
  },
  {
   "cell_type": "code",
   "execution_count": 6,
   "metadata": {},
   "outputs": [],
   "source": [
    "def open_camel(file):\n",
    "    camel = Image.open(file)\n",
    "    transparency = Image.new('RGBA', camel.size, (0, 0, 0, 0))\n",
    "    transparency.paste(camel, (0,0))\n",
    "    per = 0.1\n",
    "    wsize = int(transparency.size[0]*per)\n",
    "    hsize = int(transparency.size[1]*per)\n",
    "    return transparency.resize((wsize,hsize), Image.ANTIALIAS)\n",
    "    "
   ]
  },
  {
   "cell_type": "code",
   "execution_count": 7,
   "metadata": {},
   "outputs": [],
   "source": [
    "def place_camel_dict(img, game, board_info):\n",
    "    counter = 0\n",
    "    border = 5\n",
    "    width = (img.size[0]-border*2)/5\n",
    "    for camel, values in game.camel_dict.items():\n",
    "        file = glob(f'../img/*{camel}*')[0]\n",
    "        pic = open_camel(file)\n",
    "        square = board_info[modulo_space(values['space'])]\n",
    "        x = int(square[0][0] + width/2-(pic.size[0]/2))\n",
    "        y = int(square[1][1] - pic.size[0] - ((values['height']-1)*14))\n",
    "        img.paste(pic, (x,y), mask = pic)\n",
    "        if values['need_roll']:\n",
    "            x = 120 + counter*35 \n",
    "            y = 350\n",
    "            img.paste(pic, (x,y), mask = pic)\n",
    "            counter +=1"
   ]
  },
  {
   "cell_type": "code",
   "execution_count": 10,
   "metadata": {},
   "outputs": [],
   "source": [
    "def place_tiles(img,game,board_info):\n",
    "    draw = ImageDraw.Draw(img)\n",
    "    for space, val in game.tiles_dict.items():\n",
    "        tile = board_info[space]\n",
    "        top_left_corner = (tile[0][0]+10,tile[0][1]+10)\n",
    "        bottom_right_corner = (tile[1][0]-10,tile[1][1]-10)\n",
    "        draw.rectangle([top_left_corner, bottom_right_corner], fill = (255,225,255), outline = (29,29,29))\n",
    "        draw.text((tile[0][0]+25, tile[0][1]+35), val['tile_type'], font=font, fill=(0,0,0))\n",
    "    "
   ]
  },
  {
   "cell_type": "code",
   "execution_count": 11,
   "metadata": {},
   "outputs": [],
   "source": [
    "board_info = create_board(img)\n",
    "place_camel_dict(img,game,board_info)\n",
    "place_tiles(img, game,board_info)"
   ]
  },
  {
   "cell_type": "code",
   "execution_count": 12,
   "metadata": {},
   "outputs": [
    {
     "data": {
      "text/plain": [
       "{1: {'tile_type': 'block', 'owner': 1}}"
      ]
     },
     "execution_count": 12,
     "metadata": {},
     "output_type": "execute_result"
    }
   ],
   "source": [
    "game.tiles_dict"
   ]
  },
  {
   "cell_type": "code",
   "execution_count": 13,
   "metadata": {
    "scrolled": false
   },
   "outputs": [
    {
     "data": {
      "image/png": "[encoded data removed]",
      "text/plain": [
       "<PIL.Image.Image image mode=RGB size=500x500 at 0x110220160>"
      ]
     },
     "execution_count": 13,
     "metadata": {},
     "output_type": "execute_result"
    }
   ],
   "source": [
    "img"
   ]
  },
  {
   "cell_type": "code",
   "execution_count": 14,
   "metadata": {},
   "outputs": [],
   "source": [
    "import tkinter as tk\n",
    "from tkinter import ttk"
   ]
  },
  {
   "cell_type": "code",
   "execution_count": 15,
   "metadata": {},
   "outputs": [],
   "source": [
    "def update():\n",
    "    img = Image.new('RGB', (500, 500), color = (236,192,81))\n",
    "    board_info = create_board(img)\n",
    "    place_camel_dict(img,game,board_info)\n",
    "    place_tiles(img,game,board_info)\n",
    "    label.img = ImageTk.PhotoImage(img)\n",
    "    label.config(image=label.img)\n",
    "    combo.config(values=list(game.available_moves().keys()))\n",
    "    player_turn_text.set(f\"Turn: Player {game.player_dict[game.state]['name']}\")"
   ]
  },
  {
   "cell_type": "code",
   "execution_count": 16,
   "metadata": {},
   "outputs": [],
   "source": [
    "def play():\n",
    "    print(combo.get())\n",
    "    if combo.get() == 'Roll':\n",
    "        need_roll = [key for key in game.camel_dict.keys() if game.camel_dict[key][\"need_roll\"]]\n",
    "        camel = random.choice(need_roll)\n",
    "        roll = random.randint(1, 3)\n",
    "        output = game.play(game.available_moves()[combo.get()].replace(\"camel\", f\"'{camel}'\").replace(', roll', f', {roll}'))\n",
    "        turn_info.set(f'Camel: {camel} Rolled: {str(roll)}')\n",
    "        if output == 'Done':\n",
    "            game_end = 'Game Done'\n",
    "            player_turn.grid_forget()\n",
    "            combo.grid_forget()\n",
    "            turn_enter.grid_forget()\n",
    "            img = Image.new('RGB', (500, 500), color = (236,192,81))\n",
    "            board_info = create_board(img)\n",
    "            place_camel_dict(img,game,board_info)\n",
    "            place_tiles(img,game,board_info)\n",
    "            label.img = ImageTk.PhotoImage(img)\n",
    "            label.config(image=label.img)\n",
    "            global end\n",
    "            end = tk.Label(mainframe, text=game_end)\n",
    "            end.grid(column = 1, row=0, rowspan = 2)\n",
    "            global restart\n",
    "            restart = tk.Button(mainframe, text=\"Play Again\", command=restart_game)\n",
    "            restart.grid(column = 1, row=2)\n",
    "            return\n",
    "    else:\n",
    "        game.play(game.available_moves()[combo.get()])\n",
    "    update()"
   ]
  },
  {
   "cell_type": "code",
   "execution_count": 17,
   "metadata": {},
   "outputs": [],
   "source": [
    "def destroy_start():\n",
    "    for counter, name in enumerate(names):\n",
    "        game.player_dict[counter+1]['name'] = name.get()\n",
    "    update()\n",
    "    mainframe.lift() "
   ]
  },
  {
   "cell_type": "code",
   "execution_count": 18,
   "metadata": {},
   "outputs": [],
   "source": [
    "def name_text_boxes(event):\n",
    "    for name in names:\n",
    "        name.destroy()\n",
    "    for label in player_labels:\n",
    "        label.destroy()\n",
    "    game_enter.pack_forget()\n",
    "    global game\n",
    "    game = camelup.Game(int(num_players.get()))\n",
    "    del names[:]\n",
    "    del player_labels[:]\n",
    "    for num in range(int(num_players.get())):\n",
    "        player_labels.append(tk.Label(startframe, text=f'Player: {num+1}'))\n",
    "        player_labels[-1].grid(row = num+1,column = 0)\n",
    "        names.append(tk.Entry(startframe))\n",
    "        names[-1].grid(row = num+1,column = 1)\n",
    "    game_enter.grid(row = num + 2, column = 0, columnspan=1)"
   ]
  },
  {
   "cell_type": "code",
   "execution_count": 19,
   "metadata": {},
   "outputs": [],
   "source": [
    "def restart_game():\n",
    "    global game\n",
    "    game = camelup.Game(2)\n",
    "    startframe.lift()  \n",
    "    end.grid_forget()\n",
    "    restart.grid_forget()\n",
    "    player_turn.grid(column = 1, row=0)\n",
    "    combo.grid(column = 1, row = 1)\n",
    "    turn_enter.grid(column=1, row=2)"
   ]
  },
  {
   "cell_type": "code",
   "execution_count": 20,
   "metadata": {
    "scrolled": false
   },
   "outputs": [
    {
     "name": "stdout",
     "output_type": "stream",
     "text": [
      "Bet Round Winner blue - 5 Points\n",
      "Place Skip Tile At 4\n",
      "Bet Round Winner red - 5 Points\n",
      "Roll\n",
      "Bet Round Winner red - 3 Points\n",
      "Place Skip Tile At 7\n",
      "Bet Round Winner red - 2 Points\n",
      "Roll\n",
      "Bet Round Winner white - 5 Points\n",
      "Bet Round Winner yellow - 5 Points\n",
      "Roll\n",
      "Bet Round Winner white - 3 Points\n",
      "Bet Round Winner white - 3 Points\n"
     ]
    },
    {
     "name": "stderr",
     "output_type": "stream",
     "text": [
      "Exception in Tkinter callback\n",
      "Traceback (most recent call last):\n",
      "  File \"/Users/michaelgracie/anaconda3/envs/camel/lib/python3.7/tkinter/__init__.py\", line 1705, in __call__\n",
      "    return self.func(*args)\n",
      "  File \"<ipython-input-16-8a621b86a32d>\", line 28, in play\n",
      "    game.play(game.available_moves()[combo.get()])\n",
      "KeyError: 'Bet Round Winner white - 3 Points'\n"
     ]
    },
    {
     "name": "stdout",
     "output_type": "stream",
     "text": [
      "Bet Round Winner white - 3 Points\n"
     ]
    },
    {
     "name": "stderr",
     "output_type": "stream",
     "text": [
      "Exception in Tkinter callback\n",
      "Traceback (most recent call last):\n",
      "  File \"/Users/michaelgracie/anaconda3/envs/camel/lib/python3.7/tkinter/__init__.py\", line 1705, in __call__\n",
      "    return self.func(*args)\n",
      "  File \"<ipython-input-16-8a621b86a32d>\", line 28, in play\n",
      "    game.play(game.available_moves()[combo.get()])\n",
      "KeyError: 'Bet Round Winner white - 3 Points'\n"
     ]
    },
    {
     "name": "stdout",
     "output_type": "stream",
     "text": [
      "Bet Round Winner white - 3 Points\n"
     ]
    },
    {
     "name": "stderr",
     "output_type": "stream",
     "text": [
      "Exception in Tkinter callback\n",
      "Traceback (most recent call last):\n",
      "  File \"/Users/michaelgracie/anaconda3/envs/camel/lib/python3.7/tkinter/__init__.py\", line 1705, in __call__\n",
      "    return self.func(*args)\n",
      "  File \"<ipython-input-16-8a621b86a32d>\", line 28, in play\n",
      "    game.play(game.available_moves()[combo.get()])\n",
      "KeyError: 'Bet Round Winner white - 3 Points'\n"
     ]
    },
    {
     "name": "stdout",
     "output_type": "stream",
     "text": [
      "Bet Round Winner white - 2 Points\n",
      "Roll\n",
      "Roll\n",
      "Bet Round Winner green - 5 Points\n",
      "Place Block Tile At 7\n",
      "Place Skip Tile At 9\n",
      "Roll\n",
      "Roll\n",
      "Bet Round Winner white - 5 Points\n",
      "Bet Round Winner green - 3 Points\n",
      "Roll\n",
      "Bet Round Winner blue - 5 Points\n",
      "Bet Round Winner green - 2 Points\n",
      "Bet Round Winner yellow - 5 Points\n",
      "Bet Round Winner yellow - 3 Points\n",
      "Roll\n",
      "Bet Round Winner white - 3 Points\n",
      "Bet Round Winner white - 2 Points\n",
      "Bet Round Winner red - 5 Points\n",
      "Roll\n",
      "Bet Round Winner red - 5 Points\n",
      "Bet Round Winner white - 5 Points\n",
      "Bet Round Winner blue - 5 Points\n",
      "Roll\n",
      "Bet Round Winner white - 3 Points\n",
      "Place Skip Tile At 9\n",
      "Bet Round Winner blue - 3 Points\n",
      "Bet Round Winner green - 5 Points\n",
      "Roll\n",
      "Bet Round Winner green - 3 Points\n",
      "Bet Round Winner white - 2 Points\n",
      "Roll\n",
      "Bet Round Winner green - 2 Points\n",
      "Bet Round Winner yellow - 5 Points\n",
      "Roll\n",
      "Bet Game Winner yellow\n",
      "Bet Round Winner yellow - 3 Points\n",
      "Roll\n",
      "Bet Round Winner blue - 5 Points\n",
      "Bet Round Winner red - 5 Points\n",
      "Place Block Tile At 11\n",
      "Roll\n",
      "Bet Round Winner red - 3 Points\n",
      "Bet Game Loser yellow\n",
      "Bet Round Winner white - 5 Points\n",
      "Bet Round Winner green - 5 Points\n",
      "Bet Round Winner green - 3 Points\n",
      "Roll\n",
      "Bet Round Winner green - 2 Points\n",
      "Roll\n",
      "Bet Round Winner white - 3 Points\n",
      "Bet Round Winner red - 2 Points\n",
      "Bet Round Winner white - 2 Points\n",
      "Roll\n",
      "Bet Game Winner green\n",
      "Bet Game Winner green\n",
      "Bet Game Winner green\n",
      "Roll\n",
      "Bet Round Winner green - 5 Points\n",
      "Bet Round Winner green - 3 Points\n",
      "Bet Round Winner green - 2 Points\n",
      "Place Block Tile At 14\n",
      "Bet Round Winner white - 5 Points\n",
      "Bet Round Winner white - 3 Points\n",
      "Roll\n"
     ]
    }
   ],
   "source": [
    "root = tk.Toplevel()\n",
    "root.title(\"Camel Up\")\n",
    "\n",
    "## Setting up base game\n",
    "game = camelup.Game(2)\n",
    "\n",
    "mainframe = ttk.Frame(root, padding=\"3 3 12 12\")\n",
    "mainframe.grid(column=0, row=0, sticky=(tk.N, tk.W, tk.E, tk.S))\n",
    "root.columnconfigure(0, weight=1)\n",
    "root.rowconfigure(0, weight=1)\n",
    "\n",
    "player_turn_text = tk.StringVar()\n",
    "player_turn_text.set(f\"Turn: Player {game.player_dict[game.state]['name']}\")\n",
    "player_turn = tk.Label(mainframe, \n",
    "         textvariable=player_turn_text)\n",
    "player_turn.grid(column = 1, row=0)\n",
    "\n",
    "combo = ttk.Combobox(mainframe, \n",
    "                values=list(game.available_moves().keys()))\n",
    "combo.grid(column = 1, row = 1)\n",
    "combo.current(0)\n",
    "               \n",
    "turn_enter = ttk.Button(mainframe, text=\"Play\", command=play)\n",
    "turn_enter.grid(column=1, row=2)\n",
    "               \n",
    "turn_info = tk.StringVar()\n",
    "turn_info_label = tk.Label(mainframe, \n",
    "         textvariable=turn_info).grid(column = 1, row=3)\n",
    "\n",
    "label = tk.Label(mainframe)\n",
    "label.img = ImageTk.PhotoImage(img)\n",
    "label.config(image=label.img)\n",
    "label.grid(column = 0, row = 0, rowspan=4)\n",
    "\n",
    "startframe = ttk.Frame(root, padding=\"3 3 12 12\")\n",
    "startframe.grid(column=0, row=0, sticky=(tk.N, tk.W, tk.E, tk.S))\n",
    "names = list()\n",
    "player_labels = list()\n",
    "num_players = ttk.Combobox(startframe, \n",
    "                values=['2','3','4','5','6'])\n",
    "num_players.grid(column = 0, row = 0, columnspan=1)\n",
    "game_enter = ttk.Button(startframe, text=\"Start Game\", command=destroy_start)\n",
    "num_players.bind(\"<<ComboboxSelected>>\", name_text_boxes)\n",
    "               \n",
    "root.mainloop()"
   ]
  },
  {
   "cell_type": "code",
   "execution_count": 21,
   "metadata": {},
   "outputs": [
    {
     "data": {
      "text/plain": [
       "{'blue': {'height': 1, 'space': 1, 'need_roll': True},\n",
       " 'green': {'height': 1, 'space': 2, 'need_roll': True},\n",
       " 'red': {'height': 1, 'space': 3, 'need_roll': True},\n",
       " 'yellow': {'height': 2, 'space': 1, 'need_roll': True},\n",
       " 'white': {'height': 2, 'space': 2, 'need_roll': True}}"
      ]
     },
     "execution_count": 21,
     "metadata": {},
     "output_type": "execute_result"
    }
   ],
   "source": [
    "game.camel_dict"
   ]
  },
  {
   "cell_type": "code",
   "execution_count": 22,
   "metadata": {},
   "outputs": [],
   "source": [
    "game.play_roll('yellow', 3)"
   ]
  },
  {
   "cell_type": "code",
   "execution_count": 23,
   "metadata": {},
   "outputs": [
    {
     "data": {
      "text/plain": [
       "{'blue': {'height': 1, 'space': 1, 'need_roll': True},\n",
       " 'green': {'height': 1, 'space': 2, 'need_roll': True},\n",
       " 'red': {'height': 1, 'space': 3, 'need_roll': True},\n",
       " 'yellow': {'height': 1, 'space': 4, 'need_roll': False},\n",
       " 'white': {'height': 2, 'space': 2, 'need_roll': True}}"
      ]
     },
     "execution_count": 23,
     "metadata": {},
     "output_type": "execute_result"
    }
   ],
   "source": [
    "game.camel_dict"
   ]
  },
  {
   "cell_type": "code",
   "execution_count": 24,
   "metadata": {},
   "outputs": [
    {
     "data": {
      "text/plain": [
       "{1: {'game_cards': ['blue', 'green', 'red', 'yellow', 'white'],\n",
       "  'tile': True,\n",
       "  'coins': 6,\n",
       "  'bet_tiles': {},\n",
       "  'name': ''},\n",
       " 2: {'game_cards': ['blue', 'green', 'red', 'yellow', 'white'],\n",
       "  'tile': True,\n",
       "  'coins': 5,\n",
       "  'bet_tiles': {},\n",
       "  'name': ''}}"
      ]
     },
     "execution_count": 24,
     "metadata": {},
     "output_type": "execute_result"
    }
   ],
   "source": [
    "game.player_dict"
   ]
  },
  {
   "cell_type": "code",
   "execution_count": 25,
   "metadata": {},
   "outputs": [
    {
     "data": {
      "text/plain": [
       "{}"
      ]
     },
     "execution_count": 25,
     "metadata": {},
     "output_type": "execute_result"
    }
   ],
   "source": [
    "game.tiles_dict"
   ]
  },
  {
   "cell_type": "code",
   "execution_count": 26,
   "metadata": {},
   "outputs": [
    {
     "data": {
      "text/plain": [
       "[]"
      ]
     },
     "execution_count": 26,
     "metadata": {},
     "output_type": "execute_result"
    }
   ],
   "source": [
    "game.loser_bets"
   ]
  }
 ],
 "metadata": {
  "kernelspec": {
   "display_name": "Python 3",
   "language": "python",
   "name": "python3"
  },
  "language_info": {
   "codemirror_mode": {
    "name": "ipython",
    "version": 3
   },
   "file_extension": ".py",
   "mimetype": "text/x-python",
   "name": "python",
   "nbconvert_exporter": "python",
   "pygments_lexer": "ipython3",
   "version": "3.7.3"
  }
 },
 "nbformat": 4,
 "nbformat_minor": 2
}
