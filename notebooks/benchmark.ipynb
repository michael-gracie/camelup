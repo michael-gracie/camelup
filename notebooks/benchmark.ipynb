{
 "cells": [
  {
   "cell_type": "code",
   "execution_count": 1,
   "metadata": {},
   "outputs": [],
   "source": [
    "from camelup.utilities import *\n",
    "from camelup.treesearch import * \n",
    "from camelup import camelup, config\n",
    "from copy import deepcopy\n",
    "from time import time\n",
    "import numpy as np\n",
    "import inspect\n",
    "import ast\n",
    "from io import StringIO\n",
    "import re"
   ]
  },
  {
   "cell_type": "code",
   "execution_count": 2,
   "metadata": {},
   "outputs": [],
   "source": [
    "game = camelup.Game(3)\n",
    "\n",
    "camel_dict = {\n",
    "    \"red\": {\"height\": 1, \"space\": 1, \"need_roll\": True},\n",
    "    \"blue\": {\"height\": 2, \"space\": 1, \"need_roll\": True},\n",
    "    \"green\": {\"height\": 1, \"space\": 2, \"need_roll\": True},\n",
    "}\n",
    "game.camel_dict = camel_dict\n",
    "\n",
    "game.play_winner_card(\"blue\")\n",
    "game.play_loser_card(\"red\")\n",
    "game.play_bet_tile(\"blue\")\n",
    "\n",
    "game.state = 2\n",
    "game.play_bet_tile(\"blue\")\n",
    "game.play_winner_card(\"green\")"
   ]
  },
  {
   "cell_type": "code",
   "execution_count": 6,
   "metadata": {},
   "outputs": [],
   "source": [
    "def parse_dump(string):\n",
    "    \"\"\"Gets information from the AST dump and return the AST object and the id\n",
    "\n",
    "    Parameters\n",
    "    ----------\n",
    "    string : str\n",
    "        Tree to extract the id for\n",
    "\n",
    "    Returns\n",
    "    -------\n",
    "    str\n",
    "        A string with the object and name info\n",
    "\n",
    "    \"\"\"\n",
    "    re1 = \"id='(.*?)',\"\n",
    "    return string.split('(')[0] + ' - ' + re.search(re1, string).group(1)\n",
    "\n",
    "\n",
    "def create_benchmark_func(tree, performance):\n",
    "    \"\"\"Creating a benchmark function named benchmark_`func`\n",
    "\n",
    "    Parameters\n",
    "    ----------\n",
    "    tree : str\n",
    "        AST for function to create benchmark function for\n",
    "    performance : dict\n",
    "        Dictionary to capture function\n",
    "\n",
    "    Returns\n",
    "    -------\n",
    "    str :\n",
    "        Tree of the benchmark function\n",
    "\n",
    "    \"\"\"\n",
    "    t = 0\n",
    "    new_first_layer = list()\n",
    "    for node in tree.body[0].body:\n",
    "        if node.__class__ != ast.Return:\n",
    "            node_dump = ast.dump(node)\n",
    "            parsed_dump = parse_dump(node_dump)\n",
    "            performance[parsed_dump] = list()\n",
    "            start_time = ast.parse(f\"t{t} = time()\").body[0]\n",
    "            t+=1\n",
    "            end_time = ast.parse(f\"t{t} = time()\").body[0]\n",
    "            dif = ast.parse(f\"performance['{parsed_dump}'].append(t{t}-t{t-1})\").body[0]\n",
    "            new_first_layer.extend([start_time, node, end_time, dif])\n",
    "            t+=1\n",
    "        else:\n",
    "            new_first_layer.extend([node])\n",
    "    tree.body[0].body = new_first_layer\n",
    "    tree.body[0].name = f'benchmark_{tree.body[0].name}'\n",
    "    return tree\n"
   ]
  },
  {
   "cell_type": "code",
   "execution_count": 7,
   "metadata": {
    "scrolled": true
   },
   "outputs": [
    {
     "name": "stdout",
     "output_type": "stream",
     "text": [
      "Module(body=[FunctionDef(name='benchmark_calc_utility', args=arguments(args=[arg(arg='game', annotation=None), arg(arg='iter', annotation=None)], vararg=None, kwonlyargs=[], kw_defaults=[], kwarg=None, defaults=[]), body=[Assign(targets=[Name(id='t0', ctx=Store())], value=Call(func=Name(id='time', ctx=Load()), args=[], keywords=[])), Assign(targets=[Name(id='coins', ctx=Store())], value=Call(func=Name(id='coins_to_numpy', ctx=Load()), args=[Name(id='game', ctx=Load())], keywords=[])), Assign(targets=[Name(id='t1', ctx=Store())], value=Call(func=Name(id='time', ctx=Load()), args=[], keywords=[])), Expr(value=Call(func=Attribute(value=Subscript(value=Name(id='performance', ctx=Load()), slice=Index(value=Str(s='Assign - coins')), ctx=Load()), attr='append', ctx=Load()), args=[BinOp(left=Name(id='t1', ctx=Load()), op=Sub(), right=Name(id='t0', ctx=Load()))], keywords=[])), Assign(targets=[Name(id='t2', ctx=Store())], value=Call(func=Name(id='time', ctx=Load()), args=[], keywords=[])), Assign(targets=[Tuple(elts=[Name(id='turn_prob_first', ctx=Store()), Name(id='turn_prob_second', ctx=Store()), Name(id='turn_prob_other', ctx=Store()), Name(id='exp_tile_points', ctx=Store())], ctx=Store())], value=Call(func=Name(id='turn_prob_numpy', ctx=Load()), args=[Name(id='game', ctx=Load()), Name(id='iter', ctx=Load())], keywords=[])), Assign(targets=[Name(id='t3', ctx=Store())], value=Call(func=Name(id='time', ctx=Load()), args=[], keywords=[])), Expr(value=Call(func=Attribute(value=Subscript(value=Name(id='performance', ctx=Load()), slice=Index(value=Str(s='Assign - turn_prob_first')), ctx=Load()), attr='append', ctx=Load()), args=[BinOp(left=Name(id='t3', ctx=Load()), op=Sub(), right=Name(id='t2', ctx=Load()))], keywords=[])), Assign(targets=[Name(id='t4', ctx=Store())], value=Call(func=Name(id='time', ctx=Load()), args=[], keywords=[])), Assign(targets=[Tuple(elts=[Name(id='game_prob_first', ctx=Store()), Name(id='game_prob_last', ctx=Store()), Name(id='game_prob_other', ctx=Store())], ctx=Store())], value=Call(func=Name(id='game_prob_numpy', ctx=Load()), args=[Name(id='game', ctx=Load()), Name(id='iter', ctx=Load())], keywords=[])), Assign(targets=[Name(id='t5', ctx=Store())], value=Call(func=Name(id='time', ctx=Load()), args=[], keywords=[])), Expr(value=Call(func=Attribute(value=Subscript(value=Name(id='performance', ctx=Load()), slice=Index(value=Str(s='Assign - game_prob_first')), ctx=Load()), attr='append', ctx=Load()), args=[BinOp(left=Name(id='t5', ctx=Load()), op=Sub(), right=Name(id='t4', ctx=Load()))], keywords=[])), Assign(targets=[Name(id='t6', ctx=Store())], value=Call(func=Name(id='time', ctx=Load()), args=[], keywords=[])), Assign(targets=[Tuple(elts=[Name(id='winner_bets', ctx=Store()), Name(id='loser_bets', ctx=Store())], ctx=Store())], value=Call(func=Name(id='winner_loser_bets_to_numpy', ctx=Load()), args=[Name(id='game', ctx=Load())], keywords=[])), Assign(targets=[Name(id='t7', ctx=Store())], value=Call(func=Name(id='time', ctx=Load()), args=[], keywords=[])), Expr(value=Call(func=Attribute(value=Subscript(value=Name(id='performance', ctx=Load()), slice=Index(value=Str(s='Assign - winner_bets')), ctx=Load()), attr='append', ctx=Load()), args=[BinOp(left=Name(id='t7', ctx=Load()), op=Sub(), right=Name(id='t6', ctx=Load()))], keywords=[])), Assign(targets=[Name(id='t8', ctx=Store())], value=Call(func=Name(id='time', ctx=Load()), args=[], keywords=[])), Assign(targets=[Name(id='bet_tiles', ctx=Store())], value=Call(func=Name(id='bet_tiles_to_numpy', ctx=Load()), args=[Name(id='game', ctx=Load())], keywords=[])), Assign(targets=[Name(id='t9', ctx=Store())], value=Call(func=Name(id='time', ctx=Load()), args=[], keywords=[])), Expr(value=Call(func=Attribute(value=Subscript(value=Name(id='performance', ctx=Load()), slice=Index(value=Str(s='Assign - bet_tiles')), ctx=Load()), attr='append', ctx=Load()), args=[BinOp(left=Name(id='t9', ctx=Load()), op=Sub(), right=Name(id='t8', ctx=Load()))], keywords=[])), Assign(targets=[Name(id='t10', ctx=Store())], value=Call(func=Name(id='time', ctx=Load()), args=[], keywords=[])), Assign(targets=[Name(id='bets', ctx=Store())], value=Call(func=Attribute(value=Call(func=Attribute(value=Name(id='pd', ctx=Load()), attr='DataFrame', ctx=Load()), args=[Name(id='bet_tiles', ctx=Load())], keywords=[]), attr='merge', ctx=Load()), args=[Call(func=Attribute(value=Name(id='pd', ctx=Load()), attr='DataFrame', ctx=Load()), args=[Name(id='turn_prob_first', ctx=Load())], keywords=[])], keywords=[keyword(arg='on', value=Str(s='camel')), keyword(arg='how', value=Str(s='left')), keyword(arg='suffixes', value=Tuple(elts=[Str(s=''), Str(s='_first')], ctx=Load()))])), Assign(targets=[Name(id='t11', ctx=Store())], value=Call(func=Name(id='time', ctx=Load()), args=[], keywords=[])), Expr(value=Call(func=Attribute(value=Subscript(value=Name(id='performance', ctx=Load()), slice=Index(value=Str(s='Assign - bets')), ctx=Load()), attr='append', ctx=Load()), args=[BinOp(left=Name(id='t11', ctx=Load()), op=Sub(), right=Name(id='t10', ctx=Load()))], keywords=[])), Assign(targets=[Name(id='t12', ctx=Store())], value=Call(func=Name(id='time', ctx=Load()), args=[], keywords=[])), Assign(targets=[Name(id='bets', ctx=Store())], value=Call(func=Attribute(value=Name(id='bets', ctx=Load()), attr='merge', ctx=Load()), args=[Call(func=Attribute(value=Name(id='pd', ctx=Load()), attr='DataFrame', ctx=Load()), args=[Name(id='turn_prob_second', ctx=Load())], keywords=[])], keywords=[keyword(arg='on', value=Str(s='camel')), keyword(arg='how', value=Str(s='left')), keyword(arg='suffixes', value=Tuple(elts=[Str(s=''), Str(s='_second')], ctx=Load()))])), Assign(targets=[Name(id='t13', ctx=Store())], value=Call(func=Name(id='time', ctx=Load()), args=[], keywords=[])), Expr(value=Call(func=Attribute(value=Subscript(value=Name(id='performance', ctx=Load()), slice=Index(value=Str(s='Assign - bets')), ctx=Load()), attr='append', ctx=Load()), args=[BinOp(left=Name(id='t13', ctx=Load()), op=Sub(), right=Name(id='t12', ctx=Load()))], keywords=[])), Assign(targets=[Name(id='t14', ctx=Store())], value=Call(func=Name(id='time', ctx=Load()), args=[], keywords=[])), Assign(targets=[Name(id='bets', ctx=Store())], value=Call(func=Attribute(value=Name(id='bets', ctx=Load()), attr='merge', ctx=Load()), args=[Call(func=Attribute(value=Name(id='pd', ctx=Load()), attr='DataFrame', ctx=Load()), args=[Name(id='turn_prob_other', ctx=Load())], keywords=[])], keywords=[keyword(arg='on', value=Str(s='camel')), keyword(arg='how', value=Str(s='left')), keyword(arg='suffixes', value=Tuple(elts=[Str(s=''), Str(s='_other')], ctx=Load()))])), Assign(targets=[Name(id='t15', ctx=Store())], value=Call(func=Name(id='time', ctx=Load()), args=[], keywords=[])), Expr(value=Call(func=Attribute(value=Subscript(value=Name(id='performance', ctx=Load()), slice=Index(value=Str(s='Assign - bets')), ctx=Load()), attr='append', ctx=Load()), args=[BinOp(left=Name(id='t15', ctx=Load()), op=Sub(), right=Name(id='t14', ctx=Load()))], keywords=[])), Assign(targets=[Name(id='t16', ctx=Store())], value=Call(func=Name(id='time', ctx=Load()), args=[], keywords=[])), Assign(targets=[Subscript(value=Name(id='bets', ctx=Load()), slice=Index(value=Str(s='exp_value')), ctx=Store())], value=BinOp(left=BinOp(left=BinOp(left=Subscript(value=Name(id='bets', ctx=Load()), slice=Index(value=Str(s='value')), ctx=Load()), op=Mult(), right=Subscript(value=Name(id='bets', ctx=Load()), slice=Index(value=Str(s='prob')), ctx=Load())), op=Add(), right=BinOp(left=Subscript(value=Name(id='bets', ctx=Load()), slice=Index(value=Str(s='bets')), ctx=Load()), op=Mult(), right=Subscript(value=Name(id='bets', ctx=Load()), slice=Index(value=Str(s='prob_second')), ctx=Load()))), op=Sub(), right=BinOp(left=Subscript(value=Name(id='bets', ctx=Load()), slice=Index(value=Str(s='bets')), ctx=Load()), op=Mult(), right=Subscript(value=Name(id='bets', ctx=Load()), slice=Index(value=Str(s='prob_other')), ctx=Load())))), Assign(targets=[Name(id='t17', ctx=Store())], value=Call(func=Name(id='time', ctx=Load()), args=[], keywords=[])), Expr(value=Call(func=Attribute(value=Subscript(value=Name(id='performance', ctx=Load()), slice=Index(value=Str(s='Assign - bets')), ctx=Load()), attr='append', ctx=Load()), args=[BinOp(left=Name(id='t17', ctx=Load()), op=Sub(), right=Name(id='t16', ctx=Load()))], keywords=[])), Assign(targets=[Name(id='t18', ctx=Store())], value=Call(func=Name(id='time', ctx=Load()), args=[], keywords=[])), Assign(targets=[Name(id='bets_groupby', ctx=Store())], value=Call(func=Attribute(value=Call(func=Attribute(value=Subscript(value=Call(func=Attribute(value=Name(id='bets', ctx=Load()), attr='groupby', ctx=Load()), args=[Str(s='player')], keywords=[]), slice=Index(value=Str(s='exp_value')), ctx=Load()), attr='sum', ctx=Load()), args=[], keywords=[]), attr='reset_index', ctx=Load()), args=[], keywords=[])), Assign(targets=[Name(id='t19', ctx=Store())], value=Call(func=Name(id='time', ctx=Load()), args=[], keywords=[])), Expr(value=Call(func=Attribute(value=Subscript(value=Name(id='performance', ctx=Load()), slice=Index(value=Str(s='Assign - bets_groupby')), ctx=Load()), attr='append', ctx=Load()), args=[BinOp(left=Name(id='t19', ctx=Load()), op=Sub(), right=Name(id='t18', ctx=Load()))], keywords=[])), Assign(targets=[Name(id='t20', ctx=Store())], value=Call(func=Name(id='time', ctx=Load()), args=[], keywords=[])), Assign(targets=[Name(id='final', ctx=Store())], value=Call(func=Attribute(value=Call(func=Attribute(value=Name(id='pd', ctx=Load()), attr='DataFrame', ctx=Load()), args=[Name(id='coins', ctx=Load())], keywords=[]), attr='merge', ctx=Load()), args=[Call(func=Attribute(value=Name(id='pd', ctx=Load()), attr='DataFrame', ctx=Load()), args=[Name(id='exp_tile_points', ctx=Load())], keywords=[])], keywords=[keyword(arg='on', value=Str(s='player')), keyword(arg='how', value=Str(s='left'))])), Assign(targets=[Name(id='t21', ctx=Store())], value=Call(func=Name(id='time', ctx=Load()), args=[], keywords=[])), Expr(value=Call(func=Attribute(value=Subscript(value=Name(id='performance', ctx=Load()), slice=Index(value=Str(s='Assign - final')), ctx=Load()), attr='append', ctx=Load()), args=[BinOp(left=Name(id='t21', ctx=Load()), op=Sub(), right=Name(id='t20', ctx=Load()))], keywords=[])), Assign(targets=[Name(id='t22', ctx=Store())], value=Call(func=Name(id='time', ctx=Load()), args=[], keywords=[])), Assign(targets=[Name(id='final', ctx=Store())], value=Call(func=Attribute(value=Name(id='final', ctx=Load()), attr='merge', ctx=Load()), args=[Name(id='bets_groupby', ctx=Load())], keywords=[keyword(arg='on', value=Str(s='player')), keyword(arg='how', value=Str(s='left'))])), Assign(targets=[Name(id='t23', ctx=Store())], value=Call(func=Name(id='time', ctx=Load()), args=[], keywords=[])), Expr(value=Call(func=Attribute(value=Subscript(value=Name(id='performance', ctx=Load()), slice=Index(value=Str(s='Assign - final')), ctx=Load()), attr='append', ctx=Load()), args=[BinOp(left=Name(id='t23', ctx=Load()), op=Sub(), right=Name(id='t22', ctx=Load()))], keywords=[])), Assign(targets=[Name(id='t24', ctx=Store())], value=Call(func=Name(id='time', ctx=Load()), args=[], keywords=[])), Assign(targets=[Name(id='game_first', ctx=Store())], value=Call(func=Attribute(value=Call(func=Attribute(value=Name(id='pd', ctx=Load()), attr='DataFrame', ctx=Load()), args=[Name(id='winner_bets', ctx=Load())], keywords=[]), attr='merge', ctx=Load()), args=[Call(func=Attribute(value=Name(id='pd', ctx=Load()), attr='DataFrame', ctx=Load()), args=[Name(id='game_prob_first', ctx=Load())], keywords=[])], keywords=[keyword(arg='on', value=Str(s='camel')), keyword(arg='how', value=Str(s='inner'))])), Assign(targets=[Name(id='t25', ctx=Store())], value=Call(func=Name(id='time', ctx=Load()), args=[], keywords=[])), Expr(value=Call(func=Attribute(value=Subscript(value=Name(id='performance', ctx=Load()), slice=Index(value=Str(s='Assign - game_first')), ctx=Load()), attr='append', ctx=Load()), args=[BinOp(left=Name(id='t25', ctx=Load()), op=Sub(), right=Name(id='t24', ctx=Load()))], keywords=[])), Assign(targets=[Name(id='t26', ctx=Store())], value=Call(func=Name(id='time', ctx=Load()), args=[], keywords=[])), Assign(targets=[Name(id='game_last', ctx=Store())], value=Call(func=Attribute(value=Call(func=Attribute(value=Name(id='pd', ctx=Load()), attr='DataFrame', ctx=Load()), args=[Name(id='loser_bets', ctx=Load())], keywords=[]), attr='merge', ctx=Load()), args=[Call(func=Attribute(value=Name(id='pd', ctx=Load()), attr='DataFrame', ctx=Load()), args=[Name(id='game_prob_last', ctx=Load())], keywords=[])], keywords=[keyword(arg='on', value=Str(s='camel')), keyword(arg='how', value=Str(s='inner'))])), Assign(targets=[Name(id='t27', ctx=Store())], value=Call(func=Name(id='time', ctx=Load()), args=[], keywords=[])), Expr(value=Call(func=Attribute(value=Subscript(value=Name(id='performance', ctx=Load()), slice=Index(value=Str(s='Assign - game_last')), ctx=Load()), attr='append', ctx=Load()), args=[BinOp(left=Name(id='t27', ctx=Load()), op=Sub(), right=Name(id='t26', ctx=Load()))], keywords=[])), Assign(targets=[Name(id='t28', ctx=Store())], value=Call(func=Name(id='time', ctx=Load()), args=[], keywords=[])), Assign(targets=[Name(id='game_first', ctx=Store())], value=Call(func=Attribute(value=Name(id='pd', ctx=Load()), attr='merge', ctx=Load()), args=[Name(id='game_first', ctx=Load()), Call(func=Attribute(value=Name(id='pd', ctx=Load()), attr='DataFrame', ctx=Load()), args=[Attribute(value=Name(id='config', ctx=Load()), attr='BET_SCALING', ctx=Load())], keywords=[keyword(arg='columns', value=List(elts=[Str(s='points')], ctx=Load()))])], keywords=[keyword(arg='left_index', value=NameConstant(value=True)), keyword(arg='right_index', value=NameConstant(value=True))])), Assign(targets=[Name(id='t29', ctx=Store())], value=Call(func=Name(id='time', ctx=Load()), args=[], keywords=[])), Expr(value=Call(func=Attribute(value=Subscript(value=Name(id='performance', ctx=Load()), slice=Index(value=Str(s='Assign - game_first')), ctx=Load()), attr='append', ctx=Load()), args=[BinOp(left=Name(id='t29', ctx=Load()), op=Sub(), right=Name(id='t28', ctx=Load()))], keywords=[])), Assign(targets=[Name(id='t30', ctx=Store())], value=Call(func=Name(id='time', ctx=Load()), args=[], keywords=[])), Assign(targets=[Name(id='game_last', ctx=Store())], value=Call(func=Attribute(value=Name(id='pd', ctx=Load()), attr='merge', ctx=Load()), args=[Name(id='game_last', ctx=Load()), Call(func=Attribute(value=Name(id='pd', ctx=Load()), attr='DataFrame', ctx=Load()), args=[Attribute(value=Name(id='config', ctx=Load()), attr='BET_SCALING', ctx=Load())], keywords=[keyword(arg='columns', value=List(elts=[Str(s='points')], ctx=Load()))])], keywords=[keyword(arg='left_index', value=NameConstant(value=True)), keyword(arg='right_index', value=NameConstant(value=True))])), Assign(targets=[Name(id='t31', ctx=Store())], value=Call(func=Name(id='time', ctx=Load()), args=[], keywords=[])), Expr(value=Call(func=Attribute(value=Subscript(value=Name(id='performance', ctx=Load()), slice=Index(value=Str(s='Assign - game_last')), ctx=Load()), attr='append', ctx=Load()), args=[BinOp(left=Name(id='t31', ctx=Load()), op=Sub(), right=Name(id='t30', ctx=Load()))], keywords=[])), Assign(targets=[Name(id='t32', ctx=Store())], value=Call(func=Name(id='time', ctx=Load()), args=[], keywords=[])), Assign(targets=[Name(id='game_winner_other', ctx=Store())], value=Call(func=Attribute(value=Call(func=Attribute(value=Name(id='pd', ctx=Load()), attr='DataFrame', ctx=Load()), args=[Name(id='winner_bets', ctx=Load())], keywords=[]), attr='merge', ctx=Load()), args=[Call(func=Attribute(value=Name(id='pd', ctx=Load()), attr='DataFrame', ctx=Load()), args=[Name(id='game_prob_other', ctx=Load())], keywords=[])], keywords=[keyword(arg='on', value=Str(s='camel')), keyword(arg='how', value=Str(s='inner'))])), Assign(targets=[Name(id='t33', ctx=Store())], value=Call(func=Name(id='time', ctx=Load()), args=[], keywords=[])), Expr(value=Call(func=Attribute(value=Subscript(value=Name(id='performance', ctx=Load()), slice=Index(value=Str(s='Assign - game_winner_other')), ctx=Load()), attr='append', ctx=Load()), args=[BinOp(left=Name(id='t33', ctx=Load()), op=Sub(), right=Name(id='t32', ctx=Load()))], keywords=[])), Assign(targets=[Name(id='t34', ctx=Store())], value=Call(func=Name(id='time', ctx=Load()), args=[], keywords=[])), Assign(targets=[Name(id='game_loser_other', ctx=Store())], value=Call(func=Attribute(value=Call(func=Attribute(value=Name(id='pd', ctx=Load()), attr='DataFrame', ctx=Load()), args=[Name(id='loser_bets', ctx=Load())], keywords=[]), attr='merge', ctx=Load()), args=[Call(func=Attribute(value=Name(id='pd', ctx=Load()), attr='DataFrame', ctx=Load()), args=[Name(id='game_prob_other', ctx=Load())], keywords=[])], keywords=[keyword(arg='on', value=Str(s='camel')), keyword(arg='how', value=Str(s='inner'))])), Assign(targets=[Name(id='t35', ctx=Store())], value=Call(func=Name(id='time', ctx=Load()), args=[], keywords=[])), Expr(value=Call(func=Attribute(value=Subscript(value=Name(id='performance', ctx=Load()), slice=Index(value=Str(s='Assign - game_loser_other')), ctx=Load()), attr='append', ctx=Load()), args=[BinOp(left=Name(id='t35', ctx=Load()), op=Sub(), right=Name(id='t34', ctx=Load()))], keywords=[])), Assign(targets=[Name(id='t36', ctx=Store())], value=Call(func=Name(id='time', ctx=Load()), args=[], keywords=[])), Assign(targets=[Subscript(value=Name(id='game_winner_other', ctx=Load()), slice=Index(value=Str(s='points')), ctx=Store())], value=Num(n=1)), Assign(targets=[Name(id='t37', ctx=Store())], value=Call(func=Name(id='time', ctx=Load()), args=[], keywords=[])), Expr(value=Call(func=Attribute(value=Subscript(value=Name(id='performance', ctx=Load()), slice=Index(value=Str(s='Assign - game_winner_other')), ctx=Load()), attr='append', ctx=Load()), args=[BinOp(left=Name(id='t37', ctx=Load()), op=Sub(), right=Name(id='t36', ctx=Load()))], keywords=[])), Assign(targets=[Name(id='t38', ctx=Store())], value=Call(func=Name(id='time', ctx=Load()), args=[], keywords=[])), Assign(targets=[Subscript(value=Name(id='game_loser_other', ctx=Load()), slice=Index(value=Str(s='points')), ctx=Store())], value=Num(n=1)), Assign(targets=[Name(id='t39', ctx=Store())], value=Call(func=Name(id='time', ctx=Load()), args=[], keywords=[])), Expr(value=Call(func=Attribute(value=Subscript(value=Name(id='performance', ctx=Load()), slice=Index(value=Str(s='Assign - game_loser_other')), ctx=Load()), attr='append', ctx=Load()), args=[BinOp(left=Name(id='t39', ctx=Load()), op=Sub(), right=Name(id='t38', ctx=Load()))], keywords=[])), Assign(targets=[Name(id='t40', ctx=Store())], value=Call(func=Name(id='time', ctx=Load()), args=[], keywords=[])), Expr(value=Tuple(elts=[Call(func=Name(id='calc_exp_value', ctx=Load()), args=[Name(id='game_first', ctx=Load())], keywords=[]), Call(func=Name(id='calc_exp_value', ctx=Load()), args=[Name(id='game_last', ctx=Load())], keywords=[]), Call(func=Name(id='calc_exp_value', ctx=Load()), args=[Name(id='game_winner_other', ctx=Load())], keywords=[]), Call(func=Name(id='calc_exp_value', ctx=Load()), args=[Name(id='game_loser_other', ctx=Load())], keywords=[])], ctx=Load())), Assign(targets=[Name(id='t41', ctx=Store())], value=Call(func=Name(id='time', ctx=Load()), args=[], keywords=[])), Expr(value=Call(func=Attribute(value=Subscript(value=Name(id='performance', ctx=Load()), slice=Index(value=Str(s='Expr - calc_exp_value')), ctx=Load()), attr='append', ctx=Load()), args=[BinOp(left=Name(id='t41', ctx=Load()), op=Sub(), right=Name(id='t40', ctx=Load()))], keywords=[])), Assign(targets=[Name(id='t42', ctx=Store())], value=Call(func=Name(id='time', ctx=Load()), args=[], keywords=[])), Assign(targets=[Name(id='final', ctx=Store())], value=Call(func=Name(id='game_merge_to_final', ctx=Load()), args=[Name(id='final', ctx=Load()), Name(id='game_first', ctx=Load()), Str(s='first')], keywords=[])), Assign(targets=[Name(id='t43', ctx=Store())], value=Call(func=Name(id='time', ctx=Load()), args=[], keywords=[])), Expr(value=Call(func=Attribute(value=Subscript(value=Name(id='performance', ctx=Load()), slice=Index(value=Str(s='Assign - final')), ctx=Load()), attr='append', ctx=Load()), args=[BinOp(left=Name(id='t43', ctx=Load()), op=Sub(), right=Name(id='t42', ctx=Load()))], keywords=[])), Assign(targets=[Name(id='t44', ctx=Store())], value=Call(func=Name(id='time', ctx=Load()), args=[], keywords=[])), Assign(targets=[Name(id='final', ctx=Store())], value=Call(func=Name(id='game_merge_to_final', ctx=Load()), args=[Name(id='final', ctx=Load()), Name(id='game_last', ctx=Load()), Str(s='last')], keywords=[])), Assign(targets=[Name(id='t45', ctx=Store())], value=Call(func=Name(id='time', ctx=Load()), args=[], keywords=[])), Expr(value=Call(func=Attribute(value=Subscript(value=Name(id='performance', ctx=Load()), slice=Index(value=Str(s='Assign - final')), ctx=Load()), attr='append', ctx=Load()), args=[BinOp(left=Name(id='t45', ctx=Load()), op=Sub(), right=Name(id='t44', ctx=Load()))], keywords=[])), Assign(targets=[Name(id='t46', ctx=Store())], value=Call(func=Name(id='time', ctx=Load()), args=[], keywords=[])), Assign(targets=[Name(id='final', ctx=Store())], value=Call(func=Name(id='game_merge_to_final', ctx=Load()), args=[Name(id='final', ctx=Load()), Name(id='game_winner_other', ctx=Load()), Str(s='winner_other')], keywords=[])), Assign(targets=[Name(id='t47', ctx=Store())], value=Call(func=Name(id='time', ctx=Load()), args=[], keywords=[])), Expr(value=Call(func=Attribute(value=Subscript(value=Name(id='performance', ctx=Load()), slice=Index(value=Str(s='Assign - final')), ctx=Load()), attr='append', ctx=Load()), args=[BinOp(left=Name(id='t47', ctx=Load()), op=Sub(), right=Name(id='t46', ctx=Load()))], keywords=[])), Assign(targets=[Name(id='t48', ctx=Store())], value=Call(func=Name(id='time', ctx=Load()), args=[], keywords=[])), Assign(targets=[Name(id='final', ctx=Store())], value=Call(func=Name(id='game_merge_to_final', ctx=Load()), args=[Name(id='final', ctx=Load()), Name(id='game_loser_other', ctx=Load()), Str(s='loser_other')], keywords=[])), Assign(targets=[Name(id='t49', ctx=Store())], value=Call(func=Name(id='time', ctx=Load()), args=[], keywords=[])), Expr(value=Call(func=Attribute(value=Subscript(value=Name(id='performance', ctx=Load()), slice=Index(value=Str(s='Assign - final')), ctx=Load()), attr='append', ctx=Load()), args=[BinOp(left=Name(id='t49', ctx=Load()), op=Sub(), right=Name(id='t48', ctx=Load()))], keywords=[])), Assign(targets=[Name(id='t50', ctx=Store())], value=Call(func=Name(id='time', ctx=Load()), args=[], keywords=[])), Expr(value=Call(func=Attribute(value=Name(id='final', ctx=Load()), attr='fillna', ctx=Load()), args=[Num(n=0)], keywords=[keyword(arg='inplace', value=NameConstant(value=True))])), Assign(targets=[Name(id='t51', ctx=Store())], value=Call(func=Name(id='time', ctx=Load()), args=[], keywords=[])), Expr(value=Call(func=Attribute(value=Subscript(value=Name(id='performance', ctx=Load()), slice=Index(value=Str(s='Expr - final')), ctx=Load()), attr='append', ctx=Load()), args=[BinOp(left=Name(id='t51', ctx=Load()), op=Sub(), right=Name(id='t50', ctx=Load()))], keywords=[])), Assign(targets=[Name(id='t52', ctx=Store())], value=Call(func=Name(id='time', ctx=Load()), args=[], keywords=[])), Assign(targets=[Subscript(value=Name(id='final', ctx=Load()), slice=Index(value=Str(s='utility')), ctx=Store())], value=BinOp(left=BinOp(left=BinOp(left=BinOp(left=BinOp(left=BinOp(left=Subscript(value=Name(id='final', ctx=Load()), slice=Index(value=Str(s='coins')), ctx=Load()), op=Add(), right=Subscript(value=Name(id='final', ctx=Load()), slice=Index(value=Str(s='points')), ctx=Load())), op=Add(), right=Subscript(value=Name(id='final', ctx=Load()), slice=Index(value=Str(s='exp_value')), ctx=Load())), op=Add(), right=Subscript(value=Name(id='final', ctx=Load()), slice=Index(value=Str(s='exp_value_first')), ctx=Load())), op=Add(), right=Subscript(value=Name(id='final', ctx=Load()), slice=Index(value=Str(s='exp_value_last')), ctx=Load())), op=Sub(), right=Subscript(value=Name(id='final', ctx=Load()), slice=Index(value=Str(s='exp_value_winner_other')), ctx=Load())), op=Sub(), right=Subscript(value=Name(id='final', ctx=Load()), slice=Index(value=Str(s='exp_value_loser_other')), ctx=Load()))), Assign(targets=[Name(id='t53', ctx=Store())], value=Call(func=Name(id='time', ctx=Load()), args=[], keywords=[])), Expr(value=Call(func=Attribute(value=Subscript(value=Name(id='performance', ctx=Load()), slice=Index(value=Str(s='Assign - final')), ctx=Load()), attr='append', ctx=Load()), args=[BinOp(left=Name(id='t53', ctx=Load()), op=Sub(), right=Name(id='t52', ctx=Load()))], keywords=[])), Return(value=Name(id='final', ctx=Load()))], decorator_list=[], returns=None)])\n"
     ]
    }
   ],
   "source": [
    "func_str = inspect.getsource(calc_utility)\n",
    "tree = ast.parse(StringIO(func_str).read())\n",
    "global performance\n",
    "performance = dict()\n",
    "exec(compile(create_benchmark_func(tree, performance), filename=\"<ast>\", mode=\"exec\"))\n",
    "print(ast.dump(tree))"
   ]
  },
  {
   "cell_type": "code",
   "execution_count": 8,
   "metadata": {},
   "outputs": [
    {
     "name": "stdout",
     "output_type": "stream",
     "text": [
      "CPU times: user 17.5 s, sys: 263 ms, total: 17.8 s\n",
      "Wall time: 18.6 s\n"
     ]
    }
   ],
   "source": [
    "%%time\n",
    "for i in range(100):\n",
    "    benchmark_calc_utility(deepcopy(game),100)"
   ]
  },
  {
   "cell_type": "code",
   "execution_count": 9,
   "metadata": {},
   "outputs": [
    {
     "name": "stdout",
     "output_type": "stream",
     "text": [
      "Assign - coins = 0.0016665458679199219\n",
      "Assign - turn_prob_first = 1.127647876739502\n",
      "Assign - game_prob_first = 3.2003419399261475\n",
      "Assign - winner_bets = 0.0018310546875\n",
      "Assign - bet_tiles = 0.0018684864044189453\n",
      "Assign - bets = 2.9970686435699463\n",
      "Assign - bets_groupby = 0.3757307529449463\n",
      "Assign - final = 5.141238212585449\n",
      "Assign - game_first = 1.3687818050384521\n",
      "Assign - game_last = 1.3058347702026367\n",
      "Assign - game_winner_other = 1.1113948822021484\n",
      "Assign - game_loser_other = 1.0552432537078857\n",
      "Expr - calc_exp_value = 0.7527694702148438\n",
      "Expr - final = 0.08347082138061523\n"
     ]
    }
   ],
   "source": [
    "for key, val in performance.items():\n",
    "    print(f'{key} = {np.sum(val)}')"
   ]
  }
 ],
 "metadata": {
  "kernelspec": {
   "display_name": "Python 3",
   "language": "python",
   "name": "python3"
  },
  "language_info": {
   "codemirror_mode": {
    "name": "ipython",
    "version": 3
   },
   "file_extension": ".py",
   "mimetype": "text/x-python",
   "name": "python",
   "nbconvert_exporter": "python",
   "pygments_lexer": "ipython3",
   "version": "3.7.3"
  }
 },
 "nbformat": 4,
 "nbformat_minor": 2
}
